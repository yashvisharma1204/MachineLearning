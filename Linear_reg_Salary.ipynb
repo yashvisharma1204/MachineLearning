{
 "cells": [
  {
   "cell_type": "markdown",
   "id": "e81d8ccf",
   "metadata": {},
   "source": [
    "# Linear Regression Analysis on Salary Data"
   ]
  },
  {
   "cell_type": "markdown",
   "id": "1c65d01d",
   "metadata": {},
   "source": [
    "By Yashvi Sharma"
   ]
  },
  {
   "cell_type": "markdown",
   "id": "0530977b",
   "metadata": {},
   "source": [
    "## Introduction"
   ]
  },
  {
   "cell_type": "markdown",
   "id": "90987f9f",
   "metadata": {},
   "source": [
    "The goal of this project is to explore the relationship between various factors, such as years of experience, age, and categorical data, and their impact on salary. The project aims to use linear regression to predict salary based on these factors and evaluate the performance of the model."
   ]
  },
  {
   "cell_type": "markdown",
   "id": "5bedbc5d",
   "metadata": {},
   "source": [
    "## Data Description"
   ]
  },
  {
   "cell_type": "markdown",
   "id": "e3eb0f47",
   "metadata": {},
   "source": [
    "The dataset used in this analysis contains information about employees, including age, years of experience, gender, education level, job title, and salary. Each row represents a different employee, while the columns represent their attributes.\n",
    "\n",
    "1. Age: Age of the employee in years.\n",
    "2. Years of Experience: Number of years the employee has worked.\n",
    "3. Salary: The annual salary in US dollars.\n",
    "4. Gender: Gender of the employee (male or female).\n",
    "5. Education Level: Highest level of education attained by the employee (high school, bachelor's degree, master's degree, or PhD).\n",
    "6. Job Title: The employee's job title (e.g., manager, analyst, engineer, etc.)."
   ]
  },
  {
   "cell_type": "markdown",
   "id": "5dfe0b51",
   "metadata": {},
   "source": [
    "## Data Exploration"
   ]
  },
  {
   "cell_type": "markdown",
   "id": "bde9c4be",
   "metadata": {},
   "source": [
    "### Import Libraries "
   ]
  },
  {
   "cell_type": "markdown",
   "id": "f797b69b",
   "metadata": {},
   "source": [
    "1. **Pandas:** Used for data manipulation and analysis, like loading, cleaning, and transforming data.\n",
    "2. **Seaborn:** Creates statistical visualizations, providing easy-to-use plotting functions with appealing aesthetics.\n",
    "3. **Matplotlib:** Provides a robust foundation for plotting and allows for customization of graphs.\n",
    "5. **Scikit-Learn:** Offers tools for machine learning, including data splitting, model building, and evaluation metrics like Mean Squared Error (MSE) and R-squared (R²)."
   ]
  },
  {
   "cell_type": "code",
   "execution_count": 56,
   "id": "b23fd718",
   "metadata": {},
   "outputs": [],
   "source": [
    "import pandas as pd\n",
    "import seaborn as sns\n",
    "import matplotlib.pyplot as plt\n",
    "\n",
    "from sklearn.model_selection import train_test_split\n",
    "from sklearn.linear_model import LinearRegression\n",
    "from sklearn.metrics import mean_squared_error, r2_score"
   ]
  },
  {
   "cell_type": "markdown",
   "id": "fab85603",
   "metadata": {},
   "source": [
    "### Loading Data"
   ]
  },
  {
   "cell_type": "code",
   "execution_count": 3,
   "id": "96cc861e",
   "metadata": {},
   "outputs": [],
   "source": [
    "data = pd.read_csv(\"Salary Data.csv\")"
   ]
  },
  {
   "cell_type": "markdown",
   "id": "49a4fa26",
   "metadata": {},
   "source": [
    "### Data Exploration"
   ]
  },
  {
   "cell_type": "markdown",
   "id": "d021362f",
   "metadata": {},
   "source": [
    "The dataset was loaded, and basic statistics were examined. Here's a summary of the data:"
   ]
  },
  {
   "cell_type": "code",
   "execution_count": 6,
   "id": "c8080e6e",
   "metadata": {
    "scrolled": true
   },
   "outputs": [
    {
     "data": {
      "text/html": [
       "<div>\n",
       "<style scoped>\n",
       "    .dataframe tbody tr th:only-of-type {\n",
       "        vertical-align: middle;\n",
       "    }\n",
       "\n",
       "    .dataframe tbody tr th {\n",
       "        vertical-align: top;\n",
       "    }\n",
       "\n",
       "    .dataframe thead th {\n",
       "        text-align: right;\n",
       "    }\n",
       "</style>\n",
       "<table border=\"1\" class=\"dataframe\">\n",
       "  <thead>\n",
       "    <tr style=\"text-align: right;\">\n",
       "      <th></th>\n",
       "      <th>Age</th>\n",
       "      <th>Gender</th>\n",
       "      <th>Education Level</th>\n",
       "      <th>Job Title</th>\n",
       "      <th>Years of Experience</th>\n",
       "      <th>Salary</th>\n",
       "    </tr>\n",
       "  </thead>\n",
       "  <tbody>\n",
       "    <tr>\n",
       "      <th>0</th>\n",
       "      <td>32.0</td>\n",
       "      <td>Male</td>\n",
       "      <td>Bachelor's</td>\n",
       "      <td>Software Engineer</td>\n",
       "      <td>5.0</td>\n",
       "      <td>90000.0</td>\n",
       "    </tr>\n",
       "    <tr>\n",
       "      <th>1</th>\n",
       "      <td>28.0</td>\n",
       "      <td>Female</td>\n",
       "      <td>Master's</td>\n",
       "      <td>Data Analyst</td>\n",
       "      <td>3.0</td>\n",
       "      <td>65000.0</td>\n",
       "    </tr>\n",
       "    <tr>\n",
       "      <th>2</th>\n",
       "      <td>45.0</td>\n",
       "      <td>Male</td>\n",
       "      <td>PhD</td>\n",
       "      <td>Senior Manager</td>\n",
       "      <td>15.0</td>\n",
       "      <td>150000.0</td>\n",
       "    </tr>\n",
       "    <tr>\n",
       "      <th>3</th>\n",
       "      <td>36.0</td>\n",
       "      <td>Female</td>\n",
       "      <td>Bachelor's</td>\n",
       "      <td>Sales Associate</td>\n",
       "      <td>7.0</td>\n",
       "      <td>60000.0</td>\n",
       "    </tr>\n",
       "    <tr>\n",
       "      <th>4</th>\n",
       "      <td>52.0</td>\n",
       "      <td>Male</td>\n",
       "      <td>Master's</td>\n",
       "      <td>Director</td>\n",
       "      <td>20.0</td>\n",
       "      <td>200000.0</td>\n",
       "    </tr>\n",
       "    <tr>\n",
       "      <th>5</th>\n",
       "      <td>29.0</td>\n",
       "      <td>Male</td>\n",
       "      <td>Bachelor's</td>\n",
       "      <td>Marketing Analyst</td>\n",
       "      <td>2.0</td>\n",
       "      <td>55000.0</td>\n",
       "    </tr>\n",
       "    <tr>\n",
       "      <th>6</th>\n",
       "      <td>42.0</td>\n",
       "      <td>Female</td>\n",
       "      <td>Master's</td>\n",
       "      <td>Product Manager</td>\n",
       "      <td>12.0</td>\n",
       "      <td>120000.0</td>\n",
       "    </tr>\n",
       "    <tr>\n",
       "      <th>7</th>\n",
       "      <td>31.0</td>\n",
       "      <td>Male</td>\n",
       "      <td>Bachelor's</td>\n",
       "      <td>Sales Manager</td>\n",
       "      <td>4.0</td>\n",
       "      <td>80000.0</td>\n",
       "    </tr>\n",
       "    <tr>\n",
       "      <th>8</th>\n",
       "      <td>26.0</td>\n",
       "      <td>Female</td>\n",
       "      <td>Bachelor's</td>\n",
       "      <td>Marketing Coordinator</td>\n",
       "      <td>1.0</td>\n",
       "      <td>45000.0</td>\n",
       "    </tr>\n",
       "    <tr>\n",
       "      <th>9</th>\n",
       "      <td>38.0</td>\n",
       "      <td>Male</td>\n",
       "      <td>PhD</td>\n",
       "      <td>Senior Scientist</td>\n",
       "      <td>10.0</td>\n",
       "      <td>110000.0</td>\n",
       "    </tr>\n",
       "  </tbody>\n",
       "</table>\n",
       "</div>"
      ],
      "text/plain": [
       "    Age  Gender Education Level              Job Title  Years of Experience  \\\n",
       "0  32.0    Male      Bachelor's      Software Engineer                  5.0   \n",
       "1  28.0  Female        Master's           Data Analyst                  3.0   \n",
       "2  45.0    Male             PhD         Senior Manager                 15.0   \n",
       "3  36.0  Female      Bachelor's        Sales Associate                  7.0   \n",
       "4  52.0    Male        Master's               Director                 20.0   \n",
       "5  29.0    Male      Bachelor's      Marketing Analyst                  2.0   \n",
       "6  42.0  Female        Master's        Product Manager                 12.0   \n",
       "7  31.0    Male      Bachelor's          Sales Manager                  4.0   \n",
       "8  26.0  Female      Bachelor's  Marketing Coordinator                  1.0   \n",
       "9  38.0    Male             PhD       Senior Scientist                 10.0   \n",
       "\n",
       "     Salary  \n",
       "0   90000.0  \n",
       "1   65000.0  \n",
       "2  150000.0  \n",
       "3   60000.0  \n",
       "4  200000.0  \n",
       "5   55000.0  \n",
       "6  120000.0  \n",
       "7   80000.0  \n",
       "8   45000.0  \n",
       "9  110000.0  "
      ]
     },
     "execution_count": 6,
     "metadata": {},
     "output_type": "execute_result"
    }
   ],
   "source": [
    "data.head(10)"
   ]
  },
  {
   "cell_type": "markdown",
   "id": "bc3d5ba0",
   "metadata": {},
   "source": [
    "**data.info()** Displays a concise summary of a DataFrame. It shows information like the number of rows, column names, data types, non-null counts, and memory usage"
   ]
  },
  {
   "cell_type": "code",
   "execution_count": 9,
   "id": "e3defe0c",
   "metadata": {},
   "outputs": [
    {
     "name": "stdout",
     "output_type": "stream",
     "text": [
      "<class 'pandas.core.frame.DataFrame'>\n",
      "RangeIndex: 375 entries, 0 to 374\n",
      "Data columns (total 6 columns):\n",
      " #   Column               Non-Null Count  Dtype  \n",
      "---  ------               --------------  -----  \n",
      " 0   Age                  373 non-null    float64\n",
      " 1   Gender               373 non-null    object \n",
      " 2   Education Level      373 non-null    object \n",
      " 3   Job Title            373 non-null    object \n",
      " 4   Years of Experience  373 non-null    float64\n",
      " 5   Salary               373 non-null    float64\n",
      "dtypes: float64(3), object(3)\n",
      "memory usage: 17.7+ KB\n"
     ]
    }
   ],
   "source": [
    "data.info() "
   ]
  },
  {
   "cell_type": "markdown",
   "id": "b1ffa455",
   "metadata": {},
   "source": [
    "## Handling Missing Values"
   ]
  },
  {
   "cell_type": "markdown",
   "id": "0b85283c",
   "metadata": {},
   "source": [
    "### Checking sum of null elements present in each columns"
   ]
  },
  {
   "cell_type": "markdown",
   "id": "87ba8c23",
   "metadata": {},
   "source": [
    "1. **.isnull()** checks the number of null elements present \n",
    "2. **.sum()** adds the number of null elements"
   ]
  },
  {
   "cell_type": "code",
   "execution_count": 14,
   "id": "ee78a9eb",
   "metadata": {},
   "outputs": [
    {
     "data": {
      "text/plain": [
       "Age                    2\n",
       "Gender                 2\n",
       "Education Level        2\n",
       "Job Title              2\n",
       "Years of Experience    2\n",
       "Salary                 2\n",
       "dtype: int64"
      ]
     },
     "execution_count": 14,
     "metadata": {},
     "output_type": "execute_result"
    }
   ],
   "source": [
    "data.isnull().sum()"
   ]
  },
  {
   "cell_type": "markdown",
   "id": "18582448",
   "metadata": {},
   "source": [
    "### Removing null values from the database"
   ]
  },
  {
   "cell_type": "markdown",
   "id": "604f43db",
   "metadata": {},
   "source": [
    "1. **data.dropna()**: This function removes rows or columns with missing (NaN) values from a DataFrame.\n",
    "2. ***inplace=True:*** This parameter tells pandas to perform the operation \"in place,\" meaning that the changes will be applied directly to the DataFrame without needing to assign the result to a new variable."
   ]
  },
  {
   "cell_type": "code",
   "execution_count": 16,
   "id": "b04648c3",
   "metadata": {},
   "outputs": [],
   "source": [
    "data.dropna(inplace=True)"
   ]
  },
  {
   "cell_type": "code",
   "execution_count": 17,
   "id": "e9c588b3",
   "metadata": {
    "scrolled": true
   },
   "outputs": [
    {
     "data": {
      "text/plain": [
       "Age                    0\n",
       "Gender                 0\n",
       "Education Level        0\n",
       "Job Title              0\n",
       "Years of Experience    0\n",
       "Salary                 0\n",
       "dtype: int64"
      ]
     },
     "execution_count": 17,
     "metadata": {},
     "output_type": "execute_result"
    }
   ],
   "source": [
    "data.isnull().sum()"
   ]
  },
  {
   "cell_type": "markdown",
   "id": "4cc4a38e",
   "metadata": {},
   "source": [
    "## Data Transformation"
   ]
  },
  {
   "cell_type": "markdown",
   "id": "1393b66e",
   "metadata": {},
   "source": [
    "1. **pd.get_dummies()**: This function in pandas creates \"dummy variables\"from categorical data. \n",
    "It transforms each category in a categorical column into a new binary (0 or 1) column, indicating the presence or absence of that category.\n",
    "2. In this context, I've transformed categorical variables into numerical format for further analysis, especially for machine learning tasks of linear regression."
   ]
  },
  {
   "cell_type": "code",
   "execution_count": null,
   "id": "6729a4c7",
   "metadata": {},
   "outputs": [],
   "source": [
    "data = pd.get_dummies(data, columns=['Gender', 'Education Level', 'Job Title'], drop_first=True)"
   ]
  },
  {
   "cell_type": "markdown",
   "id": "1836c187",
   "metadata": {},
   "source": [
    "1. ***columns=['Gender', 'Education Level', 'Job Title']:*** Specifies the columns to transform.\n",
    "2. ***drop_first=True:*** Drops the first category to avoid multicollinearity in regression models."
   ]
  },
  {
   "cell_type": "code",
   "execution_count": 58,
   "id": "f10ca6bf",
   "metadata": {},
   "outputs": [
    {
     "data": {
      "text/html": [
       "<div>\n",
       "<style scoped>\n",
       "    .dataframe tbody tr th:only-of-type {\n",
       "        vertical-align: middle;\n",
       "    }\n",
       "\n",
       "    .dataframe tbody tr th {\n",
       "        vertical-align: top;\n",
       "    }\n",
       "\n",
       "    .dataframe thead th {\n",
       "        text-align: right;\n",
       "    }\n",
       "</style>\n",
       "<table border=\"1\" class=\"dataframe\">\n",
       "  <thead>\n",
       "    <tr style=\"text-align: right;\">\n",
       "      <th></th>\n",
       "      <th>Age</th>\n",
       "      <th>Years of Experience</th>\n",
       "      <th>Salary</th>\n",
       "      <th>Gender_Male</th>\n",
       "      <th>Education Level_Master's</th>\n",
       "      <th>Education Level_PhD</th>\n",
       "      <th>Job Title_Accountant</th>\n",
       "      <th>Job Title_Administrative Assistant</th>\n",
       "      <th>Job Title_Business Analyst</th>\n",
       "      <th>Job Title_Business Development Manager</th>\n",
       "      <th>...</th>\n",
       "      <th>Job Title_Supply Chain Manager</th>\n",
       "      <th>Job Title_Technical Recruiter</th>\n",
       "      <th>Job Title_Technical Support Specialist</th>\n",
       "      <th>Job Title_Technical Writer</th>\n",
       "      <th>Job Title_Training Specialist</th>\n",
       "      <th>Job Title_UX Designer</th>\n",
       "      <th>Job Title_UX Researcher</th>\n",
       "      <th>Job Title_VP of Finance</th>\n",
       "      <th>Job Title_VP of Operations</th>\n",
       "      <th>Job Title_Web Developer</th>\n",
       "    </tr>\n",
       "  </thead>\n",
       "  <tbody>\n",
       "    <tr>\n",
       "      <th>0</th>\n",
       "      <td>32.0</td>\n",
       "      <td>5.0</td>\n",
       "      <td>90000.0</td>\n",
       "      <td>1</td>\n",
       "      <td>0</td>\n",
       "      <td>0</td>\n",
       "      <td>0</td>\n",
       "      <td>0</td>\n",
       "      <td>0</td>\n",
       "      <td>0</td>\n",
       "      <td>...</td>\n",
       "      <td>0</td>\n",
       "      <td>0</td>\n",
       "      <td>0</td>\n",
       "      <td>0</td>\n",
       "      <td>0</td>\n",
       "      <td>0</td>\n",
       "      <td>0</td>\n",
       "      <td>0</td>\n",
       "      <td>0</td>\n",
       "      <td>0</td>\n",
       "    </tr>\n",
       "    <tr>\n",
       "      <th>1</th>\n",
       "      <td>28.0</td>\n",
       "      <td>3.0</td>\n",
       "      <td>65000.0</td>\n",
       "      <td>0</td>\n",
       "      <td>1</td>\n",
       "      <td>0</td>\n",
       "      <td>0</td>\n",
       "      <td>0</td>\n",
       "      <td>0</td>\n",
       "      <td>0</td>\n",
       "      <td>...</td>\n",
       "      <td>0</td>\n",
       "      <td>0</td>\n",
       "      <td>0</td>\n",
       "      <td>0</td>\n",
       "      <td>0</td>\n",
       "      <td>0</td>\n",
       "      <td>0</td>\n",
       "      <td>0</td>\n",
       "      <td>0</td>\n",
       "      <td>0</td>\n",
       "    </tr>\n",
       "    <tr>\n",
       "      <th>2</th>\n",
       "      <td>45.0</td>\n",
       "      <td>15.0</td>\n",
       "      <td>150000.0</td>\n",
       "      <td>1</td>\n",
       "      <td>0</td>\n",
       "      <td>1</td>\n",
       "      <td>0</td>\n",
       "      <td>0</td>\n",
       "      <td>0</td>\n",
       "      <td>0</td>\n",
       "      <td>...</td>\n",
       "      <td>0</td>\n",
       "      <td>0</td>\n",
       "      <td>0</td>\n",
       "      <td>0</td>\n",
       "      <td>0</td>\n",
       "      <td>0</td>\n",
       "      <td>0</td>\n",
       "      <td>0</td>\n",
       "      <td>0</td>\n",
       "      <td>0</td>\n",
       "    </tr>\n",
       "    <tr>\n",
       "      <th>3</th>\n",
       "      <td>36.0</td>\n",
       "      <td>7.0</td>\n",
       "      <td>60000.0</td>\n",
       "      <td>0</td>\n",
       "      <td>0</td>\n",
       "      <td>0</td>\n",
       "      <td>0</td>\n",
       "      <td>0</td>\n",
       "      <td>0</td>\n",
       "      <td>0</td>\n",
       "      <td>...</td>\n",
       "      <td>0</td>\n",
       "      <td>0</td>\n",
       "      <td>0</td>\n",
       "      <td>0</td>\n",
       "      <td>0</td>\n",
       "      <td>0</td>\n",
       "      <td>0</td>\n",
       "      <td>0</td>\n",
       "      <td>0</td>\n",
       "      <td>0</td>\n",
       "    </tr>\n",
       "    <tr>\n",
       "      <th>4</th>\n",
       "      <td>52.0</td>\n",
       "      <td>20.0</td>\n",
       "      <td>200000.0</td>\n",
       "      <td>1</td>\n",
       "      <td>1</td>\n",
       "      <td>0</td>\n",
       "      <td>0</td>\n",
       "      <td>0</td>\n",
       "      <td>0</td>\n",
       "      <td>0</td>\n",
       "      <td>...</td>\n",
       "      <td>0</td>\n",
       "      <td>0</td>\n",
       "      <td>0</td>\n",
       "      <td>0</td>\n",
       "      <td>0</td>\n",
       "      <td>0</td>\n",
       "      <td>0</td>\n",
       "      <td>0</td>\n",
       "      <td>0</td>\n",
       "      <td>0</td>\n",
       "    </tr>\n",
       "  </tbody>\n",
       "</table>\n",
       "<p>5 rows × 179 columns</p>\n",
       "</div>"
      ],
      "text/plain": [
       "    Age  Years of Experience    Salary  Gender_Male  Education Level_Master's  \\\n",
       "0  32.0                  5.0   90000.0            1                         0   \n",
       "1  28.0                  3.0   65000.0            0                         1   \n",
       "2  45.0                 15.0  150000.0            1                         0   \n",
       "3  36.0                  7.0   60000.0            0                         0   \n",
       "4  52.0                 20.0  200000.0            1                         1   \n",
       "\n",
       "   Education Level_PhD  Job Title_Accountant  \\\n",
       "0                    0                     0   \n",
       "1                    0                     0   \n",
       "2                    1                     0   \n",
       "3                    0                     0   \n",
       "4                    0                     0   \n",
       "\n",
       "   Job Title_Administrative Assistant  Job Title_Business Analyst  \\\n",
       "0                                   0                           0   \n",
       "1                                   0                           0   \n",
       "2                                   0                           0   \n",
       "3                                   0                           0   \n",
       "4                                   0                           0   \n",
       "\n",
       "   Job Title_Business Development Manager  ...  \\\n",
       "0                                       0  ...   \n",
       "1                                       0  ...   \n",
       "2                                       0  ...   \n",
       "3                                       0  ...   \n",
       "4                                       0  ...   \n",
       "\n",
       "   Job Title_Supply Chain Manager  Job Title_Technical Recruiter  \\\n",
       "0                               0                              0   \n",
       "1                               0                              0   \n",
       "2                               0                              0   \n",
       "3                               0                              0   \n",
       "4                               0                              0   \n",
       "\n",
       "   Job Title_Technical Support Specialist  Job Title_Technical Writer  \\\n",
       "0                                       0                           0   \n",
       "1                                       0                           0   \n",
       "2                                       0                           0   \n",
       "3                                       0                           0   \n",
       "4                                       0                           0   \n",
       "\n",
       "   Job Title_Training Specialist  Job Title_UX Designer  \\\n",
       "0                              0                      0   \n",
       "1                              0                      0   \n",
       "2                              0                      0   \n",
       "3                              0                      0   \n",
       "4                              0                      0   \n",
       "\n",
       "   Job Title_UX Researcher  Job Title_VP of Finance  \\\n",
       "0                        0                        0   \n",
       "1                        0                        0   \n",
       "2                        0                        0   \n",
       "3                        0                        0   \n",
       "4                        0                        0   \n",
       "\n",
       "   Job Title_VP of Operations  Job Title_Web Developer  \n",
       "0                           0                        0  \n",
       "1                           0                        0  \n",
       "2                           0                        0  \n",
       "3                           0                        0  \n",
       "4                           0                        0  \n",
       "\n",
       "[5 rows x 179 columns]"
      ]
     },
     "execution_count": 58,
     "metadata": {},
     "output_type": "execute_result"
    }
   ],
   "source": [
    "data.head()"
   ]
  },
  {
   "cell_type": "markdown",
   "id": "391c436a",
   "metadata": {},
   "source": [
    "## Visualisation"
   ]
  },
  {
   "cell_type": "markdown",
   "id": "5384ba23",
   "metadata": {},
   "source": [
    "### Age Distribution:"
   ]
  },
  {
   "cell_type": "code",
   "execution_count": 47,
   "id": "8e996e2e",
   "metadata": {},
   "outputs": [
    {
     "data": {
      "image/png": "[encoded data removed]",
      "text/plain": [
       "<Figure size 640x480 with 1 Axes>"
      ]
     },
     "metadata": {},
     "output_type": "display_data"
    }
   ],
   "source": [
    "sns.histplot(data['Age'], kde=True, color=\"seagreen\")  \n",
    "plt.show()"
   ]
  },
  {
   "cell_type": "markdown",
   "id": "b8aee6a4",
   "metadata": {},
   "source": [
    "### Salary Distribution:"
   ]
  },
  {
   "cell_type": "code",
   "execution_count": 48,
   "id": "4a73309b",
   "metadata": {},
   "outputs": [
    {
     "data": {
      "image/png": "[encoded data removed]",
      "text/plain": [
       "<Figure size 640x480 with 1 Axes>"
      ]
     },
     "metadata": {},
     "output_type": "display_data"
    }
   ],
   "source": [
    "sns.histplot(data['Salary'], kde=True, color=\"purple\") \n",
    "plt.show()"
   ]
  },
  {
   "cell_type": "markdown",
   "id": "b3773a90",
   "metadata": {},
   "source": [
    "### Years of Experience vs. Salary"
   ]
  },
  {
   "cell_type": "code",
   "execution_count": 52,
   "id": "c0f4272b",
   "metadata": {},
   "outputs": [
    {
     "data": {
      "image/png": "[encoded data removed]",
      "text/plain": [
       "<Figure size 640x480 with 1 Axes>"
      ]
     },
     "metadata": {},
     "output_type": "display_data"
    }
   ],
   "source": [
    "sns.scatterplot(x='Years of Experience', y='Salary', data=data, color=\"lightskyblue\")\n",
    "plt.show()"
   ]
  },
  {
   "cell_type": "markdown",
   "id": "b8874186",
   "metadata": {},
   "source": [
    "## Linear Regression"
   ]
  },
  {
   "cell_type": "markdown",
   "id": "db11290a",
   "metadata": {},
   "source": [
    "### Model Building"
   ]
  },
  {
   "cell_type": "markdown",
   "id": "8e27617b",
   "metadata": {},
   "source": [
    "1. **X:** It refers to features\n",
    "2. **Y:** It refers to the target, which is the like target outcome you want to predict\n",
    "3. **train_test_split:** Splits the data into two parts: a training set to build the model and a testing set to evaluate the model's performance.\n",
    "4. *test_size=0.2:* Indicates that 20% of the data will be used for testing, while the remaining 80% is for training.\n",
    "5. *random_state=42:* Ensures the split is reproducible. The same random state always yields the same data split.\n",
    "6. **X_train, y_train:** These sets are used to train the model.\n",
    "7. **X_test, y_test:** These sets are used to test and validate the model's accuracy after training."
   ]
  },
  {
   "cell_type": "code",
   "execution_count": 34,
   "id": "59c4c4a2",
   "metadata": {},
   "outputs": [],
   "source": [
    "X = data[['Years of Experience']] \n",
    "y = data['Salary']  \n",
    "\n",
    "X_train, X_test, y_train, y_test = train_test_split(X, y, test_size=0.2, random_state=42)"
   ]
  },
  {
   "cell_type": "markdown",
   "id": "4fc91bde",
   "metadata": {},
   "source": [
    "### Model Training "
   ]
  },
  {
   "cell_type": "markdown",
   "id": "524be7b1",
   "metadata": {},
   "source": [
    "1. **model = LinearRegression()**: Creates an instance of the Linear Regression model from scikit-learn.\n",
    "2. **model.fit(X_train, y_train):** The model learns the relationship between the **X** and **Y** during this step."
   ]
  },
  {
   "cell_type": "code",
   "execution_count": 35,
   "id": "7d30e016",
   "metadata": {},
   "outputs": [
    {
     "data": {
      "text/html": [
       "<style>#sk-container-id-1 {color: black;}#sk-container-id-1 pre{padding: 0;}#sk-container-id-1 div.sk-toggleable {background-color: white;}#sk-container-id-1 label.sk-toggleable__label {cursor: pointer;display: block;width: 100%;margin-bottom: 0;padding: 0.3em;box-sizing: border-box;text-align: center;}#sk-container-id-1 label.sk-toggleable__label-arrow:before {content: \"▸\";float: left;margin-right: 0.25em;color: #696969;}#sk-container-id-1 label.sk-toggleable__label-arrow:hover:before {color: black;}#sk-container-id-1 div.sk-estimator:hover label.sk-toggleable__label-arrow:before {color: black;}#sk-container-id-1 div.sk-toggleable__content {max-height: 0;max-width: 0;overflow: hidden;text-align: left;background-color: #f0f8ff;}#sk-container-id-1 div.sk-toggleable__content pre {margin: 0.2em;color: black;border-radius: 0.25em;background-color: #f0f8ff;}#sk-container-id-1 input.sk-toggleable__control:checked~div.sk-toggleable__content {max-height: 200px;max-width: 100%;overflow: auto;}#sk-container-id-1 input.sk-toggleable__control:checked~label.sk-toggleable__label-arrow:before {content: \"▾\";}#sk-container-id-1 div.sk-estimator input.sk-toggleable__control:checked~label.sk-toggleable__label {background-color: #d4ebff;}#sk-container-id-1 div.sk-label input.sk-toggleable__control:checked~label.sk-toggleable__label {background-color: #d4ebff;}#sk-container-id-1 input.sk-hidden--visually {border: 0;clip: rect(1px 1px 1px 1px);clip: rect(1px, 1px, 1px, 1px);height: 1px;margin: -1px;overflow: hidden;padding: 0;position: absolute;width: 1px;}#sk-container-id-1 div.sk-estimator {font-family: monospace;background-color: #f0f8ff;border: 1px dotted black;border-radius: 0.25em;box-sizing: border-box;margin-bottom: 0.5em;}#sk-container-id-1 div.sk-estimator:hover {background-color: #d4ebff;}#sk-container-id-1 div.sk-parallel-item::after {content: \"\";width: 100%;border-bottom: 1px solid gray;flex-grow: 1;}#sk-container-id-1 div.sk-label:hover label.sk-toggleable__label {background-color: #d4ebff;}#sk-container-id-1 div.sk-serial::before {content: \"\";position: absolute;border-left: 1px solid gray;box-sizing: border-box;top: 0;bottom: 0;left: 50%;z-index: 0;}#sk-container-id-1 div.sk-serial {display: flex;flex-direction: column;align-items: center;background-color: white;padding-right: 0.2em;padding-left: 0.2em;position: relative;}#sk-container-id-1 div.sk-item {position: relative;z-index: 1;}#sk-container-id-1 div.sk-parallel {display: flex;align-items: stretch;justify-content: center;background-color: white;position: relative;}#sk-container-id-1 div.sk-item::before, #sk-container-id-1 div.sk-parallel-item::before {content: \"\";position: absolute;border-left: 1px solid gray;box-sizing: border-box;top: 0;bottom: 0;left: 50%;z-index: -1;}#sk-container-id-1 div.sk-parallel-item {display: flex;flex-direction: column;z-index: 1;position: relative;background-color: white;}#sk-container-id-1 div.sk-parallel-item:first-child::after {align-self: flex-end;width: 50%;}#sk-container-id-1 div.sk-parallel-item:last-child::after {align-self: flex-start;width: 50%;}#sk-container-id-1 div.sk-parallel-item:only-child::after {width: 0;}#sk-container-id-1 div.sk-dashed-wrapped {border: 1px dashed gray;margin: 0 0.4em 0.5em 0.4em;box-sizing: border-box;padding-bottom: 0.4em;background-color: white;}#sk-container-id-1 div.sk-label label {font-family: monospace;font-weight: bold;display: inline-block;line-height: 1.2em;}#sk-container-id-1 div.sk-label-container {text-align: center;}#sk-container-id-1 div.sk-container {/* jupyter's `normalize.less` sets `[hidden] { display: none; }` but bootstrap.min.css set `[hidden] { display: none !important; }` so we also need the `!important` here to be able to override the default hidden behavior on the sphinx rendered scikit-learn.org. See: https://github.com/scikit-learn/scikit-learn/issues/21755 */display: inline-block !important;position: relative;}#sk-container-id-1 div.sk-text-repr-fallback {display: none;}</style><div id=\"sk-container-id-1\" class=\"sk-top-container\"><div class=\"sk-text-repr-fallback\"><pre>LinearRegression()</pre><b>In a Jupyter environment, please rerun this cell to show the HTML representation or trust the notebook. <br />On GitHub, the HTML representation is unable to render, please try loading this page with nbviewer.org.</b></div><div class=\"sk-container\" hidden><div class=\"sk-item\"><div class=\"sk-estimator sk-toggleable\"><input class=\"sk-toggleable__control sk-hidden--visually\" id=\"sk-estimator-id-1\" type=\"checkbox\" checked><label for=\"sk-estimator-id-1\" class=\"sk-toggleable__label sk-toggleable__label-arrow\">LinearRegression</label><div class=\"sk-toggleable__content\"><pre>LinearRegression()</pre></div></div></div></div></div>"
      ],
      "text/plain": [
       "LinearRegression()"
      ]
     },
     "execution_count": 35,
     "metadata": {},
     "output_type": "execute_result"
    }
   ],
   "source": [
    "model = LinearRegression() \n",
    "model.fit(X_train, y_train)"
   ]
  },
  {
   "cell_type": "markdown",
   "id": "d9fa91ca",
   "metadata": {},
   "source": [
    "### Model Evaluation"
   ]
  },
  {
   "cell_type": "markdown",
   "id": "e0e0e005",
   "metadata": {},
   "source": [
    "1. **y_pred = model.predict(X_test)**: Uses the trained model to make predictions on the test set (X_test).\n",
    "2. **mse = mean_squared_error(y_test, y_pred):** Calculates the mean squared error between the actual test values (y_test)\n",
    "3. **r2 = r2_score(y_test, y_pred):** Shows the correlation between X and Y. *An R² closer to 1 indicates a strong correlation.*"
   ]
  },
  {
   "cell_type": "code",
   "execution_count": 36,
   "id": "284a47f7",
   "metadata": {},
   "outputs": [],
   "source": [
    "y_pred = model.predict(X_test)"
   ]
  },
  {
   "cell_type": "code",
   "execution_count": 37,
   "id": "4ae666d5",
   "metadata": {},
   "outputs": [
    {
     "data": {
      "text/plain": [
       "array([174795.47129497,  99746.97937009, 140682.52042002,  72456.61867014,\n",
       "       147505.11059501, 154327.70077   , 181618.06146996,  99746.97937009,\n",
       "        51988.84814517,  92924.3891951 , 120214.74989506, 174795.47129497,\n",
       "        45166.25797018,  92924.3891951 , 127037.34007005,  51988.84814517,\n",
       "        65634.02849515,  41754.96288269,  79279.20884513,  86101.79902012,\n",
       "        99746.97937009,  92924.3891951 , 140682.52042002,  65634.02849515,\n",
       "        72456.61867014,  58811.43832016, 154327.70077   ,  45166.25797018,\n",
       "       120214.74989506, 161150.29094499,  51988.84814517, 127037.34007005,\n",
       "        51988.84814517, 133859.93024504,  99746.97937009,  34932.3727077 ,\n",
       "       174795.47129497,  45166.25797018, 154327.70077   ,  58811.43832016,\n",
       "        45166.25797018,  92924.3891951 , 202085.83199492, 161150.29094499,\n",
       "        45166.25797018, 140682.52042002, 106569.56954508,  45166.25797018,\n",
       "        45166.25797018,  45166.25797018, 161150.29094499,  86101.79902012,\n",
       "       120214.74989506, 113392.15972007,  92924.3891951 , 113392.15972007,\n",
       "       202085.83199492,  79279.20884513, 174795.47129497,  72456.61867014,\n",
       "       113392.15972007, 133859.93024504, 167972.88111998,  65634.02849515,\n",
       "        51988.84814517,  45166.25797018,  51988.84814517,  99746.97937009,\n",
       "        45166.25797018,  31521.07762021,  79279.20884513, 106569.56954508,\n",
       "        58811.43832016, 127037.34007005,  86101.79902012])"
      ]
     },
     "execution_count": 37,
     "metadata": {},
     "output_type": "execute_result"
    }
   ],
   "source": [
    "y_pred"
   ]
  },
  {
   "cell_type": "code",
   "execution_count": 38,
   "id": "7ecc24e7",
   "metadata": {},
   "outputs": [],
   "source": [
    "mse = mean_squared_error(y_test, y_pred)\n",
    "r2 = r2_score(y_test, y_pred)"
   ]
  },
  {
   "cell_type": "code",
   "execution_count": 39,
   "id": "8b4c48a2",
   "metadata": {},
   "outputs": [
    {
     "name": "stdout",
     "output_type": "stream",
     "text": [
      "Mean Squared Error: 241834883.8999349\n",
      "R-squared: 0.8991338517367767\n"
     ]
    }
   ],
   "source": [
    "print(f\"Mean Squared Error: {mse}\")\n",
    "print(f\"R-squared: {r2}\")"
   ]
  },
  {
   "cell_type": "markdown",
   "id": "f2cb2a23",
   "metadata": {},
   "source": [
    "## Visualisation of Regression Fit "
   ]
  },
  {
   "cell_type": "markdown",
   "id": "f94090f1",
   "metadata": {},
   "source": [
    "1. X-axis represents the independent variable, 'Years of Experience'.\n",
    "2. Y-axis represents the dependent variable, 'Salary'.\n",
    "3. Scatter Points (in coral) indicate the actual salary values from the test set.\n",
    "4. Regression Line (in maroon) represents the predicted relationship based on our linear regression model."
   ]
  },
  {
   "cell_type": "code",
   "execution_count": 60,
   "id": "342f1794",
   "metadata": {},
   "outputs": [
    {
     "data": {
      "image/png": "[encoded data removed]",
      "text/plain": [
       "<Figure size 640x480 with 1 Axes>"
      ]
     },
     "metadata": {},
     "output_type": "display_data"
    }
   ],
   "source": [
    "plt.scatter(X_test, y_test, color='coral', label='Actual')  # Scatter plot of actual values\n",
    "plt.plot(X_test, y_pred, color='maroon', linewidth=2, label='Predicted')  # Linear regression line\n",
    "plt.xlabel('Years of Experience')\n",
    "plt.ylabel('Salary')\n",
    "plt.title('Linear Regression: Experience vs. Salary')\n",
    "plt.legend()\n",
    "plt.show()"
   ]
  },
  {
   "cell_type": "markdown",
   "id": "c33adc41",
   "metadata": {},
   "source": [
    "### Plot Analysis"
   ]
  },
  {
   "cell_type": "markdown",
   "id": "294467ac",
   "metadata": {},
   "source": [
    "1. The regression line has a positive slope, indicating that **salary tends to increase with years of experience.**\n",
    "2. The scatter points are relatively close to the regression line, suggesting that the **linear model provides a reasonable approximation for predicting salary.**\n",
    "3. There are some deviations, with a few scatter points lying farther from the regression line, indicating potential outliers or factors not captured by the model."
   ]
  },
  {
   "cell_type": "markdown",
   "id": "468cb5ff",
   "metadata": {},
   "source": [
    "## Conclusion"
   ]
  },
  {
   "cell_type": "markdown",
   "id": "e23945c8",
   "metadata": {},
   "source": [
    "The linear regression project explored the relationship between years of experience and salary. After cleaning and transforming the dataset, the linear regression model was trained and evaluated.\n",
    "\n",
    "The model showed good predictive performance, with low Mean Squared Error (MSE) and a high R-squared (R²), indicating that years of experience is a significant factor in determining salary. A scatter plot with a regression line visually confirmed this positive correlation.\n",
    "\n",
    "Further improvements could involve adding more features, addressing outliers, or exploring more complex models. This project demonstrated the effectiveness of linear regression in predicting salary and provided useful insights into employee compensation"
   ]
  },
  {
   "cell_type": "code",
   "execution_count": null,
   "id": "d4129864",
   "metadata": {},
   "outputs": [],
   "source": []
  }
 ],
 "metadata": {
  "kernelspec": {
   "display_name": "Python 3 (ipykernel)",
   "language": "python",
   "name": "python3"
  },
  "language_info": {
   "codemirror_mode": {
    "name": "ipython",
    "version": 3
   },
   "file_extension": ".py",
   "mimetype": "text/x-python",
   "name": "python",
   "nbconvert_exporter": "python",
   "pygments_lexer": "ipython3",
   "version": "3.11.4"
  }
 },
 "nbformat": 4,
 "nbformat_minor": 5
}
