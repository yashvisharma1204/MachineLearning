{
 "cells": [
  {
   "cell_type": "code",
   "execution_count": 1,
   "id": "38033290",
   "metadata": {
    "_cell_guid": "b1076dfc-b9ad-4769-8c92-a6c4dae69d19",
    "_uuid": "8f2839f25d086af736a60e9eeb907d3b93b6e0e5",
    "execution": {
     "iopub.execute_input": "2025-02-19T09:07:55.637607Z",
     "iopub.status.busy": "2025-02-19T09:07:55.637218Z",
     "iopub.status.idle": "2025-02-19T09:07:58.251717Z",
     "shell.execute_reply": "2025-02-19T09:07:58.250289Z"
    },
    "papermill": {
     "duration": 2.623755,
     "end_time": "2025-02-19T09:07:58.253664",
     "exception": false,
     "start_time": "2025-02-19T09:07:55.629909",
     "status": "completed"
    },
    "tags": []
   },
   "outputs": [
    {
     "name": "stdout",
     "output_type": "stream",
     "text": [
      "/kaggle/input/playground-series-s5e2/sample_submission.csv\n",
      "/kaggle/input/playground-series-s5e2/train.csv\n",
      "/kaggle/input/playground-series-s5e2/test.csv\n",
      "/kaggle/input/playground-series-s5e2/training_extra.csv\n"
     ]
    }
   ],
   "source": [
    "# This Python 3 environment comes with many helpful analytics libraries installed\n",
    "# It is defined by the kaggle/python Docker image: https://github.com/kaggle/docker-python\n",
    "# For example, here's several helpful packages to load\n",
    "\n",
    "import numpy as np\n",
    "import pandas as pd\n",
    "from sklearn.model_selection import train_test_split, GridSearchCV\n",
    "from sklearn.preprocessing import StandardScaler, LabelEncoder\n",
    "from xgboost import XGBRegressor\n",
    "from sklearn.metrics import mean_squared_error\n",
    "# Input data files are available in the read-only \"../input/\" directory\n",
    "# For example, running this (by clicking run or pressing Shift+Enter) will list all files under the input directory\n",
    "\n",
    "import os\n",
    "for dirname, _, filenames in os.walk('/kaggle/input'):\n",
    "    for filename in filenames:\n",
    "        print(os.path.join(dirname, filename))\n",
    "\n",
    "# You can write up to 20GB to the current directory (/kaggle/working/) that gets preserved as output when you create a version using \"Save & Run All\" \n",
    "# You can also write temporary files to /kaggle/temp/, but they won't be saved outside of the current session"
   ]
  },
  {
   "cell_type": "code",
   "execution_count": 2,
   "id": "6d466f60",
   "metadata": {
    "execution": {
     "iopub.execute_input": "2025-02-19T09:07:58.266977Z",
     "iopub.status.busy": "2025-02-19T09:07:58.266421Z",
     "iopub.status.idle": "2025-02-19T09:07:58.978839Z",
     "shell.execute_reply": "2025-02-19T09:07:58.977787Z"
    },
    "papermill": {
     "duration": 0.72109,
     "end_time": "2025-02-19T09:07:58.980713",
     "exception": false,
     "start_time": "2025-02-19T09:07:58.259623",
     "status": "completed"
    },
    "tags": []
   },
   "outputs": [],
   "source": [
    "# Loading the train dataset\n",
    "df = pd.read_csv(\"/kaggle/input/playground-series-s5e2/train.csv\")  # Update the path to your train.csv file"
   ]
  },
  {
   "cell_type": "code",
   "execution_count": 3,
   "id": "59aee1c7",
   "metadata": {
    "execution": {
     "iopub.execute_input": "2025-02-19T09:07:58.996336Z",
     "iopub.status.busy": "2025-02-19T09:07:58.995975Z",
     "iopub.status.idle": "2025-02-19T09:07:59.396268Z",
     "shell.execute_reply": "2025-02-19T09:07:59.395103Z"
    },
    "papermill": {
     "duration": 0.411747,
     "end_time": "2025-02-19T09:07:59.398217",
     "exception": false,
     "start_time": "2025-02-19T09:07:58.986470",
     "status": "completed"
    },
    "tags": []
   },
   "outputs": [],
   "source": [
    "# Loading the test dataset\n",
    "test_data = pd.read_csv(\"/kaggle/input/playground-series-s5e2/test.csv\") # Update the path to your test.csv file"
   ]
  },
  {
   "cell_type": "code",
   "execution_count": 4,
   "id": "03784ff3",
   "metadata": {
    "execution": {
     "iopub.execute_input": "2025-02-19T09:07:59.411066Z",
     "iopub.status.busy": "2025-02-19T09:07:59.410672Z",
     "iopub.status.idle": "2025-02-19T09:07:59.440945Z",
     "shell.execute_reply": "2025-02-19T09:07:59.439690Z"
    },
    "papermill": {
     "duration": 0.038944,
     "end_time": "2025-02-19T09:07:59.442818",
     "exception": false,
     "start_time": "2025-02-19T09:07:59.403874",
     "status": "completed"
    },
    "tags": []
   },
   "outputs": [
    {
     "data": {
      "text/html": [
       "<div>\n",
       "<style scoped>\n",
       "    .dataframe tbody tr th:only-of-type {\n",
       "        vertical-align: middle;\n",
       "    }\n",
       "\n",
       "    .dataframe tbody tr th {\n",
       "        vertical-align: top;\n",
       "    }\n",
       "\n",
       "    .dataframe thead th {\n",
       "        text-align: right;\n",
       "    }\n",
       "</style>\n",
       "<table border=\"1\" class=\"dataframe\">\n",
       "  <thead>\n",
       "    <tr style=\"text-align: right;\">\n",
       "      <th></th>\n",
       "      <th>id</th>\n",
       "      <th>Brand</th>\n",
       "      <th>Material</th>\n",
       "      <th>Size</th>\n",
       "      <th>Compartments</th>\n",
       "      <th>Laptop Compartment</th>\n",
       "      <th>Waterproof</th>\n",
       "      <th>Style</th>\n",
       "      <th>Color</th>\n",
       "      <th>Weight Capacity (kg)</th>\n",
       "    </tr>\n",
       "  </thead>\n",
       "  <tbody>\n",
       "    <tr>\n",
       "      <th>0</th>\n",
       "      <td>300000</td>\n",
       "      <td>Puma</td>\n",
       "      <td>Leather</td>\n",
       "      <td>Small</td>\n",
       "      <td>2.0</td>\n",
       "      <td>No</td>\n",
       "      <td>No</td>\n",
       "      <td>Tote</td>\n",
       "      <td>Green</td>\n",
       "      <td>20.671147</td>\n",
       "    </tr>\n",
       "    <tr>\n",
       "      <th>1</th>\n",
       "      <td>300001</td>\n",
       "      <td>Nike</td>\n",
       "      <td>Canvas</td>\n",
       "      <td>Medium</td>\n",
       "      <td>7.0</td>\n",
       "      <td>No</td>\n",
       "      <td>Yes</td>\n",
       "      <td>Backpack</td>\n",
       "      <td>Green</td>\n",
       "      <td>13.564105</td>\n",
       "    </tr>\n",
       "    <tr>\n",
       "      <th>2</th>\n",
       "      <td>300002</td>\n",
       "      <td>Adidas</td>\n",
       "      <td>Canvas</td>\n",
       "      <td>Large</td>\n",
       "      <td>9.0</td>\n",
       "      <td>No</td>\n",
       "      <td>Yes</td>\n",
       "      <td>Messenger</td>\n",
       "      <td>Blue</td>\n",
       "      <td>11.809799</td>\n",
       "    </tr>\n",
       "    <tr>\n",
       "      <th>3</th>\n",
       "      <td>300003</td>\n",
       "      <td>Adidas</td>\n",
       "      <td>Nylon</td>\n",
       "      <td>Large</td>\n",
       "      <td>1.0</td>\n",
       "      <td>Yes</td>\n",
       "      <td>No</td>\n",
       "      <td>Messenger</td>\n",
       "      <td>Green</td>\n",
       "      <td>18.477036</td>\n",
       "    </tr>\n",
       "    <tr>\n",
       "      <th>4</th>\n",
       "      <td>300004</td>\n",
       "      <td>NaN</td>\n",
       "      <td>Nylon</td>\n",
       "      <td>Large</td>\n",
       "      <td>2.0</td>\n",
       "      <td>Yes</td>\n",
       "      <td>Yes</td>\n",
       "      <td>Tote</td>\n",
       "      <td>Black</td>\n",
       "      <td>9.907953</td>\n",
       "    </tr>\n",
       "  </tbody>\n",
       "</table>\n",
       "</div>"
      ],
      "text/plain": [
       "       id   Brand Material    Size  Compartments Laptop Compartment  \\\n",
       "0  300000    Puma  Leather   Small           2.0                 No   \n",
       "1  300001    Nike   Canvas  Medium           7.0                 No   \n",
       "2  300002  Adidas   Canvas   Large           9.0                 No   \n",
       "3  300003  Adidas    Nylon   Large           1.0                Yes   \n",
       "4  300004     NaN    Nylon   Large           2.0                Yes   \n",
       "\n",
       "  Waterproof      Style  Color  Weight Capacity (kg)  \n",
       "0         No       Tote  Green             20.671147  \n",
       "1        Yes   Backpack  Green             13.564105  \n",
       "2        Yes  Messenger   Blue             11.809799  \n",
       "3         No  Messenger  Green             18.477036  \n",
       "4        Yes       Tote  Black              9.907953  "
      ]
     },
     "execution_count": 4,
     "metadata": {},
     "output_type": "execute_result"
    }
   ],
   "source": [
    "test_data.head()"
   ]
  },
  {
   "cell_type": "code",
   "execution_count": 5,
   "id": "145963b0",
   "metadata": {
    "execution": {
     "iopub.execute_input": "2025-02-19T09:07:59.455893Z",
     "iopub.status.busy": "2025-02-19T09:07:59.455479Z",
     "iopub.status.idle": "2025-02-19T09:07:59.470713Z",
     "shell.execute_reply": "2025-02-19T09:07:59.469576Z"
    },
    "papermill": {
     "duration": 0.023756,
     "end_time": "2025-02-19T09:07:59.472603",
     "exception": false,
     "start_time": "2025-02-19T09:07:59.448847",
     "status": "completed"
    },
    "tags": []
   },
   "outputs": [
    {
     "data": {
      "text/html": [
       "<div>\n",
       "<style scoped>\n",
       "    .dataframe tbody tr th:only-of-type {\n",
       "        vertical-align: middle;\n",
       "    }\n",
       "\n",
       "    .dataframe tbody tr th {\n",
       "        vertical-align: top;\n",
       "    }\n",
       "\n",
       "    .dataframe thead th {\n",
       "        text-align: right;\n",
       "    }\n",
       "</style>\n",
       "<table border=\"1\" class=\"dataframe\">\n",
       "  <thead>\n",
       "    <tr style=\"text-align: right;\">\n",
       "      <th></th>\n",
       "      <th>id</th>\n",
       "      <th>Brand</th>\n",
       "      <th>Material</th>\n",
       "      <th>Size</th>\n",
       "      <th>Compartments</th>\n",
       "      <th>Laptop Compartment</th>\n",
       "      <th>Waterproof</th>\n",
       "      <th>Style</th>\n",
       "      <th>Color</th>\n",
       "      <th>Weight Capacity (kg)</th>\n",
       "      <th>Price</th>\n",
       "    </tr>\n",
       "  </thead>\n",
       "  <tbody>\n",
       "    <tr>\n",
       "      <th>0</th>\n",
       "      <td>0</td>\n",
       "      <td>Jansport</td>\n",
       "      <td>Leather</td>\n",
       "      <td>Medium</td>\n",
       "      <td>7.0</td>\n",
       "      <td>Yes</td>\n",
       "      <td>No</td>\n",
       "      <td>Tote</td>\n",
       "      <td>Black</td>\n",
       "      <td>11.611723</td>\n",
       "      <td>112.15875</td>\n",
       "    </tr>\n",
       "    <tr>\n",
       "      <th>1</th>\n",
       "      <td>1</td>\n",
       "      <td>Jansport</td>\n",
       "      <td>Canvas</td>\n",
       "      <td>Small</td>\n",
       "      <td>10.0</td>\n",
       "      <td>Yes</td>\n",
       "      <td>Yes</td>\n",
       "      <td>Messenger</td>\n",
       "      <td>Green</td>\n",
       "      <td>27.078537</td>\n",
       "      <td>68.88056</td>\n",
       "    </tr>\n",
       "    <tr>\n",
       "      <th>2</th>\n",
       "      <td>2</td>\n",
       "      <td>Under Armour</td>\n",
       "      <td>Leather</td>\n",
       "      <td>Small</td>\n",
       "      <td>2.0</td>\n",
       "      <td>Yes</td>\n",
       "      <td>No</td>\n",
       "      <td>Messenger</td>\n",
       "      <td>Red</td>\n",
       "      <td>16.643760</td>\n",
       "      <td>39.17320</td>\n",
       "    </tr>\n",
       "    <tr>\n",
       "      <th>3</th>\n",
       "      <td>3</td>\n",
       "      <td>Nike</td>\n",
       "      <td>Nylon</td>\n",
       "      <td>Small</td>\n",
       "      <td>8.0</td>\n",
       "      <td>Yes</td>\n",
       "      <td>No</td>\n",
       "      <td>Messenger</td>\n",
       "      <td>Green</td>\n",
       "      <td>12.937220</td>\n",
       "      <td>80.60793</td>\n",
       "    </tr>\n",
       "    <tr>\n",
       "      <th>4</th>\n",
       "      <td>4</td>\n",
       "      <td>Adidas</td>\n",
       "      <td>Canvas</td>\n",
       "      <td>Medium</td>\n",
       "      <td>1.0</td>\n",
       "      <td>Yes</td>\n",
       "      <td>Yes</td>\n",
       "      <td>Messenger</td>\n",
       "      <td>Green</td>\n",
       "      <td>17.749338</td>\n",
       "      <td>86.02312</td>\n",
       "    </tr>\n",
       "  </tbody>\n",
       "</table>\n",
       "</div>"
      ],
      "text/plain": [
       "   id         Brand Material    Size  Compartments Laptop Compartment  \\\n",
       "0   0      Jansport  Leather  Medium           7.0                Yes   \n",
       "1   1      Jansport   Canvas   Small          10.0                Yes   \n",
       "2   2  Under Armour  Leather   Small           2.0                Yes   \n",
       "3   3          Nike    Nylon   Small           8.0                Yes   \n",
       "4   4        Adidas   Canvas  Medium           1.0                Yes   \n",
       "\n",
       "  Waterproof      Style  Color  Weight Capacity (kg)      Price  \n",
       "0         No       Tote  Black             11.611723  112.15875  \n",
       "1        Yes  Messenger  Green             27.078537   68.88056  \n",
       "2         No  Messenger    Red             16.643760   39.17320  \n",
       "3         No  Messenger  Green             12.937220   80.60793  \n",
       "4        Yes  Messenger  Green             17.749338   86.02312  "
      ]
     },
     "execution_count": 5,
     "metadata": {},
     "output_type": "execute_result"
    }
   ],
   "source": [
    "df.head()"
   ]
  },
  {
   "cell_type": "code",
   "execution_count": 6,
   "id": "4f23d2ef",
   "metadata": {
    "execution": {
     "iopub.execute_input": "2025-02-19T09:07:59.486329Z",
     "iopub.status.busy": "2025-02-19T09:07:59.485975Z",
     "iopub.status.idle": "2025-02-19T09:07:59.584499Z",
     "shell.execute_reply": "2025-02-19T09:07:59.583247Z"
    },
    "papermill": {
     "duration": 0.107987,
     "end_time": "2025-02-19T09:07:59.586667",
     "exception": false,
     "start_time": "2025-02-19T09:07:59.478680",
     "status": "completed"
    },
    "tags": []
   },
   "outputs": [
    {
     "name": "stdout",
     "output_type": "stream",
     "text": [
      "<class 'pandas.core.frame.DataFrame'>\n",
      "RangeIndex: 200000 entries, 0 to 199999\n",
      "Data columns (total 10 columns):\n",
      " #   Column                Non-Null Count   Dtype  \n",
      "---  ------                --------------   -----  \n",
      " 0   id                    200000 non-null  int64  \n",
      " 1   Brand                 193773 non-null  object \n",
      " 2   Material              194387 non-null  object \n",
      " 3   Size                  195619 non-null  object \n",
      " 4   Compartments          200000 non-null  float64\n",
      " 5   Laptop Compartment    195038 non-null  object \n",
      " 6   Waterproof            195189 non-null  object \n",
      " 7   Style                 194847 non-null  object \n",
      " 8   Color                 193215 non-null  object \n",
      " 9   Weight Capacity (kg)  199923 non-null  float64\n",
      "dtypes: float64(2), int64(1), object(7)\n",
      "memory usage: 15.3+ MB\n"
     ]
    }
   ],
   "source": [
    "test_data.info()"
   ]
  },
  {
   "cell_type": "code",
   "execution_count": 7,
   "id": "c14eb0b8",
   "metadata": {
    "execution": {
     "iopub.execute_input": "2025-02-19T09:07:59.600225Z",
     "iopub.status.busy": "2025-02-19T09:07:59.599860Z",
     "iopub.status.idle": "2025-02-19T09:07:59.714111Z",
     "shell.execute_reply": "2025-02-19T09:07:59.712895Z"
    },
    "papermill": {
     "duration": 0.12326,
     "end_time": "2025-02-19T09:07:59.716158",
     "exception": false,
     "start_time": "2025-02-19T09:07:59.592898",
     "status": "completed"
    },
    "tags": []
   },
   "outputs": [
    {
     "name": "stdout",
     "output_type": "stream",
     "text": [
      "<class 'pandas.core.frame.DataFrame'>\n",
      "RangeIndex: 300000 entries, 0 to 299999\n",
      "Data columns (total 11 columns):\n",
      " #   Column                Non-Null Count   Dtype  \n",
      "---  ------                --------------   -----  \n",
      " 0   id                    300000 non-null  int64  \n",
      " 1   Brand                 290295 non-null  object \n",
      " 2   Material              291653 non-null  object \n",
      " 3   Size                  293405 non-null  object \n",
      " 4   Compartments          300000 non-null  float64\n",
      " 5   Laptop Compartment    292556 non-null  object \n",
      " 6   Waterproof            292950 non-null  object \n",
      " 7   Style                 292030 non-null  object \n",
      " 8   Color                 290050 non-null  object \n",
      " 9   Weight Capacity (kg)  299862 non-null  float64\n",
      " 10  Price                 300000 non-null  float64\n",
      "dtypes: float64(3), int64(1), object(7)\n",
      "memory usage: 25.2+ MB\n"
     ]
    }
   ],
   "source": [
    "# This tells us the number of rows, columns, and data types.  \n",
    "df.info()  "
   ]
  },
  {
   "cell_type": "code",
   "execution_count": 8,
   "id": "c0753fef",
   "metadata": {
    "execution": {
     "iopub.execute_input": "2025-02-19T09:07:59.731587Z",
     "iopub.status.busy": "2025-02-19T09:07:59.731152Z",
     "iopub.status.idle": "2025-02-19T09:07:59.841879Z",
     "shell.execute_reply": "2025-02-19T09:07:59.840860Z"
    },
    "papermill": {
     "duration": 0.120381,
     "end_time": "2025-02-19T09:07:59.843515",
     "exception": false,
     "start_time": "2025-02-19T09:07:59.723134",
     "status": "completed"
    },
    "tags": []
   },
   "outputs": [
    {
     "data": {
      "text/plain": [
       "id                         0\n",
       "Brand                   9705\n",
       "Material                8347\n",
       "Size                    6595\n",
       "Compartments               0\n",
       "Laptop Compartment      7444\n",
       "Waterproof              7050\n",
       "Style                   7970\n",
       "Color                   9950\n",
       "Weight Capacity (kg)     138\n",
       "Price                      0\n",
       "dtype: int64"
      ]
     },
     "execution_count": 8,
     "metadata": {},
     "output_type": "execute_result"
    }
   ],
   "source": [
    "# Checking for missing values in each column  \n",
    "df.isnull().sum()  "
   ]
  },
  {
   "cell_type": "code",
   "execution_count": 9,
   "id": "7818f562",
   "metadata": {
    "execution": {
     "iopub.execute_input": "2025-02-19T09:07:59.857422Z",
     "iopub.status.busy": "2025-02-19T09:07:59.857046Z",
     "iopub.status.idle": "2025-02-19T09:07:59.932897Z",
     "shell.execute_reply": "2025-02-19T09:07:59.931876Z"
    },
    "papermill": {
     "duration": 0.084619,
     "end_time": "2025-02-19T09:07:59.934593",
     "exception": false,
     "start_time": "2025-02-19T09:07:59.849974",
     "status": "completed"
    },
    "tags": []
   },
   "outputs": [
    {
     "data": {
      "text/plain": [
       "id                         0\n",
       "Brand                   6227\n",
       "Material                5613\n",
       "Size                    4381\n",
       "Compartments               0\n",
       "Laptop Compartment      4962\n",
       "Waterproof              4811\n",
       "Style                   5153\n",
       "Color                   6785\n",
       "Weight Capacity (kg)      77\n",
       "dtype: int64"
      ]
     },
     "execution_count": 9,
     "metadata": {},
     "output_type": "execute_result"
    }
   ],
   "source": [
    "# Checking for missing values in each column  \n",
    "test_data.isnull().sum()  "
   ]
  },
  {
   "cell_type": "code",
   "execution_count": 10,
   "id": "f4e9283f",
   "metadata": {
    "execution": {
     "iopub.execute_input": "2025-02-19T09:07:59.948520Z",
     "iopub.status.busy": "2025-02-19T09:07:59.948161Z",
     "iopub.status.idle": "2025-02-19T09:07:59.968193Z",
     "shell.execute_reply": "2025-02-19T09:07:59.967001Z"
    },
    "papermill": {
     "duration": 0.029178,
     "end_time": "2025-02-19T09:07:59.970181",
     "exception": false,
     "start_time": "2025-02-19T09:07:59.941003",
     "status": "completed"
    },
    "tags": []
   },
   "outputs": [],
   "source": [
    "combined_data = pd.concat([df, test_data], ignore_index=True)"
   ]
  },
  {
   "cell_type": "code",
   "execution_count": 11,
   "id": "2a8c0008",
   "metadata": {
    "execution": {
     "iopub.execute_input": "2025-02-19T09:07:59.984414Z",
     "iopub.status.busy": "2025-02-19T09:07:59.984076Z",
     "iopub.status.idle": "2025-02-19T09:08:00.618478Z",
     "shell.execute_reply": "2025-02-19T09:08:00.617267Z"
    },
    "papermill": {
     "duration": 0.643455,
     "end_time": "2025-02-19T09:08:00.620339",
     "exception": false,
     "start_time": "2025-02-19T09:07:59.976884",
     "status": "completed"
    },
    "tags": []
   },
   "outputs": [],
   "source": [
    "# Handle missing values in categorical columns\n",
    "categorical_cols = combined_data.select_dtypes(include=[object]).columns\n",
    "for col in categorical_cols:\n",
    "    combined_data[col] = combined_data[col].fillna(combined_data[col].mode()[0])"
   ]
  },
  {
   "cell_type": "code",
   "execution_count": 12,
   "id": "29138e23",
   "metadata": {
    "execution": {
     "iopub.execute_input": "2025-02-19T09:08:00.634418Z",
     "iopub.status.busy": "2025-02-19T09:08:00.634004Z",
     "iopub.status.idle": "2025-02-19T09:08:00.692142Z",
     "shell.execute_reply": "2025-02-19T09:08:00.690915Z"
    },
    "papermill": {
     "duration": 0.067461,
     "end_time": "2025-02-19T09:08:00.694415",
     "exception": false,
     "start_time": "2025-02-19T09:08:00.626954",
     "status": "completed"
    },
    "tags": []
   },
   "outputs": [],
   "source": [
    "# Handle missing values in numerical columns using SimpleImputer\n",
    "numeric_cols = combined_data.select_dtypes(include=[np.number]).columns.difference(['Price'])\n",
    "combined_data[numeric_cols] = combined_data[numeric_cols].fillna(combined_data[numeric_cols].mean())"
   ]
  },
  {
   "cell_type": "code",
   "execution_count": 13,
   "id": "b313c47a",
   "metadata": {
    "execution": {
     "iopub.execute_input": "2025-02-19T09:08:00.709228Z",
     "iopub.status.busy": "2025-02-19T09:08:00.708811Z",
     "iopub.status.idle": "2025-02-19T09:08:01.470441Z",
     "shell.execute_reply": "2025-02-19T09:08:01.469306Z"
    },
    "papermill": {
     "duration": 0.771844,
     "end_time": "2025-02-19T09:08:01.472969",
     "exception": false,
     "start_time": "2025-02-19T09:08:00.701125",
     "status": "completed"
    },
    "tags": []
   },
   "outputs": [],
   "source": [
    "# Encoding categorical columns using LabelEncoder\n",
    "label_encoders = {}\n",
    "for col in categorical_cols:\n",
    "    label_encoders[col] = LabelEncoder()\n",
    "    combined_data[col] = label_encoders[col].fit_transform(combined_data[col])"
   ]
  },
  {
   "cell_type": "code",
   "execution_count": 14,
   "id": "dc9f6617",
   "metadata": {
    "execution": {
     "iopub.execute_input": "2025-02-19T09:08:01.487822Z",
     "iopub.status.busy": "2025-02-19T09:08:01.487407Z",
     "iopub.status.idle": "2025-02-19T09:08:01.499988Z",
     "shell.execute_reply": "2025-02-19T09:08:01.498875Z"
    },
    "papermill": {
     "duration": 0.022784,
     "end_time": "2025-02-19T09:08:01.502142",
     "exception": false,
     "start_time": "2025-02-19T09:08:01.479358",
     "status": "completed"
    },
    "tags": []
   },
   "outputs": [],
   "source": [
    "#Split back into train and test\n",
    "train_data = combined_data.iloc[:len(df)]\n",
    "test_data = combined_data.iloc[len(df):].drop(columns=['Price'], errors='ignore')"
   ]
  },
  {
   "cell_type": "code",
   "execution_count": 15,
   "id": "b57900e5",
   "metadata": {
    "execution": {
     "iopub.execute_input": "2025-02-19T09:08:01.516671Z",
     "iopub.status.busy": "2025-02-19T09:08:01.516293Z",
     "iopub.status.idle": "2025-02-19T09:08:01.539726Z",
     "shell.execute_reply": "2025-02-19T09:08:01.538023Z"
    },
    "papermill": {
     "duration": 0.032988,
     "end_time": "2025-02-19T09:08:01.542015",
     "exception": false,
     "start_time": "2025-02-19T09:08:01.509027",
     "status": "completed"
    },
    "tags": []
   },
   "outputs": [
    {
     "name": "stderr",
     "output_type": "stream",
     "text": [
      "/usr/local/lib/python3.10/dist-packages/pandas/io/formats/format.py:1458: RuntimeWarning: invalid value encountered in greater\n",
      "  has_large_values = (abs_vals > 1e6).any()\n",
      "/usr/local/lib/python3.10/dist-packages/pandas/io/formats/format.py:1459: RuntimeWarning: invalid value encountered in less\n",
      "  has_small_values = ((abs_vals < 10 ** (-self.digits)) & (abs_vals > 0)).any()\n",
      "/usr/local/lib/python3.10/dist-packages/pandas/io/formats/format.py:1459: RuntimeWarning: invalid value encountered in greater\n",
      "  has_small_values = ((abs_vals < 10 ** (-self.digits)) & (abs_vals > 0)).any()\n"
     ]
    },
    {
     "data": {
      "text/html": [
       "<div>\n",
       "<style scoped>\n",
       "    .dataframe tbody tr th:only-of-type {\n",
       "        vertical-align: middle;\n",
       "    }\n",
       "\n",
       "    .dataframe tbody tr th {\n",
       "        vertical-align: top;\n",
       "    }\n",
       "\n",
       "    .dataframe thead th {\n",
       "        text-align: right;\n",
       "    }\n",
       "</style>\n",
       "<table border=\"1\" class=\"dataframe\">\n",
       "  <thead>\n",
       "    <tr style=\"text-align: right;\">\n",
       "      <th></th>\n",
       "      <th>id</th>\n",
       "      <th>Brand</th>\n",
       "      <th>Material</th>\n",
       "      <th>Size</th>\n",
       "      <th>Compartments</th>\n",
       "      <th>Laptop Compartment</th>\n",
       "      <th>Waterproof</th>\n",
       "      <th>Style</th>\n",
       "      <th>Color</th>\n",
       "      <th>Weight Capacity (kg)</th>\n",
       "      <th>Price</th>\n",
       "    </tr>\n",
       "  </thead>\n",
       "  <tbody>\n",
       "    <tr>\n",
       "      <th>0</th>\n",
       "      <td>0</td>\n",
       "      <td>1</td>\n",
       "      <td>1</td>\n",
       "      <td>1</td>\n",
       "      <td>7.0</td>\n",
       "      <td>1</td>\n",
       "      <td>0</td>\n",
       "      <td>2</td>\n",
       "      <td>0</td>\n",
       "      <td>11.611723</td>\n",
       "      <td>112.15875</td>\n",
       "    </tr>\n",
       "    <tr>\n",
       "      <th>1</th>\n",
       "      <td>1</td>\n",
       "      <td>1</td>\n",
       "      <td>0</td>\n",
       "      <td>2</td>\n",
       "      <td>10.0</td>\n",
       "      <td>1</td>\n",
       "      <td>1</td>\n",
       "      <td>1</td>\n",
       "      <td>3</td>\n",
       "      <td>27.078537</td>\n",
       "      <td>68.88056</td>\n",
       "    </tr>\n",
       "    <tr>\n",
       "      <th>2</th>\n",
       "      <td>2</td>\n",
       "      <td>4</td>\n",
       "      <td>1</td>\n",
       "      <td>2</td>\n",
       "      <td>2.0</td>\n",
       "      <td>1</td>\n",
       "      <td>0</td>\n",
       "      <td>1</td>\n",
       "      <td>5</td>\n",
       "      <td>16.643760</td>\n",
       "      <td>39.17320</td>\n",
       "    </tr>\n",
       "    <tr>\n",
       "      <th>3</th>\n",
       "      <td>3</td>\n",
       "      <td>2</td>\n",
       "      <td>2</td>\n",
       "      <td>2</td>\n",
       "      <td>8.0</td>\n",
       "      <td>1</td>\n",
       "      <td>0</td>\n",
       "      <td>1</td>\n",
       "      <td>3</td>\n",
       "      <td>12.937220</td>\n",
       "      <td>80.60793</td>\n",
       "    </tr>\n",
       "    <tr>\n",
       "      <th>4</th>\n",
       "      <td>4</td>\n",
       "      <td>0</td>\n",
       "      <td>0</td>\n",
       "      <td>1</td>\n",
       "      <td>1.0</td>\n",
       "      <td>1</td>\n",
       "      <td>1</td>\n",
       "      <td>1</td>\n",
       "      <td>3</td>\n",
       "      <td>17.749338</td>\n",
       "      <td>86.02312</td>\n",
       "    </tr>\n",
       "    <tr>\n",
       "      <th>...</th>\n",
       "      <td>...</td>\n",
       "      <td>...</td>\n",
       "      <td>...</td>\n",
       "      <td>...</td>\n",
       "      <td>...</td>\n",
       "      <td>...</td>\n",
       "      <td>...</td>\n",
       "      <td>...</td>\n",
       "      <td>...</td>\n",
       "      <td>...</td>\n",
       "      <td>...</td>\n",
       "    </tr>\n",
       "    <tr>\n",
       "      <th>499995</th>\n",
       "      <td>499995</td>\n",
       "      <td>0</td>\n",
       "      <td>0</td>\n",
       "      <td>0</td>\n",
       "      <td>2.0</td>\n",
       "      <td>1</td>\n",
       "      <td>0</td>\n",
       "      <td>1</td>\n",
       "      <td>5</td>\n",
       "      <td>7.383498</td>\n",
       "      <td>NaN</td>\n",
       "    </tr>\n",
       "    <tr>\n",
       "      <th>499996</th>\n",
       "      <td>499996</td>\n",
       "      <td>2</td>\n",
       "      <td>3</td>\n",
       "      <td>2</td>\n",
       "      <td>9.0</td>\n",
       "      <td>0</td>\n",
       "      <td>1</td>\n",
       "      <td>1</td>\n",
       "      <td>4</td>\n",
       "      <td>6.058394</td>\n",
       "      <td>NaN</td>\n",
       "    </tr>\n",
       "    <tr>\n",
       "      <th>499997</th>\n",
       "      <td>499997</td>\n",
       "      <td>1</td>\n",
       "      <td>2</td>\n",
       "      <td>2</td>\n",
       "      <td>9.0</td>\n",
       "      <td>0</td>\n",
       "      <td>1</td>\n",
       "      <td>2</td>\n",
       "      <td>3</td>\n",
       "      <td>26.890163</td>\n",
       "      <td>NaN</td>\n",
       "    </tr>\n",
       "    <tr>\n",
       "      <th>499998</th>\n",
       "      <td>499998</td>\n",
       "      <td>3</td>\n",
       "      <td>2</td>\n",
       "      <td>0</td>\n",
       "      <td>10.0</td>\n",
       "      <td>1</td>\n",
       "      <td>0</td>\n",
       "      <td>2</td>\n",
       "      <td>2</td>\n",
       "      <td>25.769153</td>\n",
       "      <td>NaN</td>\n",
       "    </tr>\n",
       "    <tr>\n",
       "      <th>499999</th>\n",
       "      <td>499999</td>\n",
       "      <td>4</td>\n",
       "      <td>1</td>\n",
       "      <td>1</td>\n",
       "      <td>8.0</td>\n",
       "      <td>1</td>\n",
       "      <td>1</td>\n",
       "      <td>1</td>\n",
       "      <td>4</td>\n",
       "      <td>29.175026</td>\n",
       "      <td>NaN</td>\n",
       "    </tr>\n",
       "  </tbody>\n",
       "</table>\n",
       "<p>500000 rows × 11 columns</p>\n",
       "</div>"
      ],
      "text/plain": [
       "            id  Brand  Material  Size  Compartments  Laptop Compartment  \\\n",
       "0            0      1         1     1           7.0                   1   \n",
       "1            1      1         0     2          10.0                   1   \n",
       "2            2      4         1     2           2.0                   1   \n",
       "3            3      2         2     2           8.0                   1   \n",
       "4            4      0         0     1           1.0                   1   \n",
       "...        ...    ...       ...   ...           ...                 ...   \n",
       "499995  499995      0         0     0           2.0                   1   \n",
       "499996  499996      2         3     2           9.0                   0   \n",
       "499997  499997      1         2     2           9.0                   0   \n",
       "499998  499998      3         2     0          10.0                   1   \n",
       "499999  499999      4         1     1           8.0                   1   \n",
       "\n",
       "        Waterproof  Style  Color  Weight Capacity (kg)      Price  \n",
       "0                0      2      0             11.611723  112.15875  \n",
       "1                1      1      3             27.078537   68.88056  \n",
       "2                0      1      5             16.643760   39.17320  \n",
       "3                0      1      3             12.937220   80.60793  \n",
       "4                1      1      3             17.749338   86.02312  \n",
       "...            ...    ...    ...                   ...        ...  \n",
       "499995           0      1      5              7.383498        NaN  \n",
       "499996           1      1      4              6.058394        NaN  \n",
       "499997           1      2      3             26.890163        NaN  \n",
       "499998           0      2      2             25.769153        NaN  \n",
       "499999           1      1      4             29.175026        NaN  \n",
       "\n",
       "[500000 rows x 11 columns]"
      ]
     },
     "execution_count": 15,
     "metadata": {},
     "output_type": "execute_result"
    }
   ],
   "source": [
    "combined_data"
   ]
  },
  {
   "cell_type": "code",
   "execution_count": 16,
   "id": "4a0ef32a",
   "metadata": {
    "execution": {
     "iopub.execute_input": "2025-02-19T09:08:01.557499Z",
     "iopub.status.busy": "2025-02-19T09:08:01.557153Z",
     "iopub.status.idle": "2025-02-19T09:08:01.571784Z",
     "shell.execute_reply": "2025-02-19T09:08:01.570288Z"
    },
    "papermill": {
     "duration": 0.024516,
     "end_time": "2025-02-19T09:08:01.573551",
     "exception": false,
     "start_time": "2025-02-19T09:08:01.549035",
     "status": "completed"
    },
    "tags": []
   },
   "outputs": [
    {
     "data": {
      "text/html": [
       "<div>\n",
       "<style scoped>\n",
       "    .dataframe tbody tr th:only-of-type {\n",
       "        vertical-align: middle;\n",
       "    }\n",
       "\n",
       "    .dataframe tbody tr th {\n",
       "        vertical-align: top;\n",
       "    }\n",
       "\n",
       "    .dataframe thead th {\n",
       "        text-align: right;\n",
       "    }\n",
       "</style>\n",
       "<table border=\"1\" class=\"dataframe\">\n",
       "  <thead>\n",
       "    <tr style=\"text-align: right;\">\n",
       "      <th></th>\n",
       "      <th>id</th>\n",
       "      <th>Brand</th>\n",
       "      <th>Material</th>\n",
       "      <th>Size</th>\n",
       "      <th>Compartments</th>\n",
       "      <th>Laptop Compartment</th>\n",
       "      <th>Waterproof</th>\n",
       "      <th>Style</th>\n",
       "      <th>Color</th>\n",
       "      <th>Weight Capacity (kg)</th>\n",
       "      <th>Price</th>\n",
       "    </tr>\n",
       "  </thead>\n",
       "  <tbody>\n",
       "    <tr>\n",
       "      <th>0</th>\n",
       "      <td>0</td>\n",
       "      <td>1</td>\n",
       "      <td>1</td>\n",
       "      <td>1</td>\n",
       "      <td>7.0</td>\n",
       "      <td>1</td>\n",
       "      <td>0</td>\n",
       "      <td>2</td>\n",
       "      <td>0</td>\n",
       "      <td>11.611723</td>\n",
       "      <td>112.15875</td>\n",
       "    </tr>\n",
       "    <tr>\n",
       "      <th>1</th>\n",
       "      <td>1</td>\n",
       "      <td>1</td>\n",
       "      <td>0</td>\n",
       "      <td>2</td>\n",
       "      <td>10.0</td>\n",
       "      <td>1</td>\n",
       "      <td>1</td>\n",
       "      <td>1</td>\n",
       "      <td>3</td>\n",
       "      <td>27.078537</td>\n",
       "      <td>68.88056</td>\n",
       "    </tr>\n",
       "    <tr>\n",
       "      <th>2</th>\n",
       "      <td>2</td>\n",
       "      <td>4</td>\n",
       "      <td>1</td>\n",
       "      <td>2</td>\n",
       "      <td>2.0</td>\n",
       "      <td>1</td>\n",
       "      <td>0</td>\n",
       "      <td>1</td>\n",
       "      <td>5</td>\n",
       "      <td>16.643760</td>\n",
       "      <td>39.17320</td>\n",
       "    </tr>\n",
       "    <tr>\n",
       "      <th>3</th>\n",
       "      <td>3</td>\n",
       "      <td>2</td>\n",
       "      <td>2</td>\n",
       "      <td>2</td>\n",
       "      <td>8.0</td>\n",
       "      <td>1</td>\n",
       "      <td>0</td>\n",
       "      <td>1</td>\n",
       "      <td>3</td>\n",
       "      <td>12.937220</td>\n",
       "      <td>80.60793</td>\n",
       "    </tr>\n",
       "    <tr>\n",
       "      <th>4</th>\n",
       "      <td>4</td>\n",
       "      <td>0</td>\n",
       "      <td>0</td>\n",
       "      <td>1</td>\n",
       "      <td>1.0</td>\n",
       "      <td>1</td>\n",
       "      <td>1</td>\n",
       "      <td>1</td>\n",
       "      <td>3</td>\n",
       "      <td>17.749338</td>\n",
       "      <td>86.02312</td>\n",
       "    </tr>\n",
       "  </tbody>\n",
       "</table>\n",
       "</div>"
      ],
      "text/plain": [
       "   id  Brand  Material  Size  Compartments  Laptop Compartment  Waterproof  \\\n",
       "0   0      1         1     1           7.0                   1           0   \n",
       "1   1      1         0     2          10.0                   1           1   \n",
       "2   2      4         1     2           2.0                   1           0   \n",
       "3   3      2         2     2           8.0                   1           0   \n",
       "4   4      0         0     1           1.0                   1           1   \n",
       "\n",
       "   Style  Color  Weight Capacity (kg)      Price  \n",
       "0      2      0             11.611723  112.15875  \n",
       "1      1      3             27.078537   68.88056  \n",
       "2      1      5             16.643760   39.17320  \n",
       "3      1      3             12.937220   80.60793  \n",
       "4      1      3             17.749338   86.02312  "
      ]
     },
     "execution_count": 16,
     "metadata": {},
     "output_type": "execute_result"
    }
   ],
   "source": [
    "# Verifying that the encoding is consistent for both train and test data\n",
    "train_data.head()"
   ]
  },
  {
   "cell_type": "code",
   "execution_count": 17,
   "id": "37bef64e",
   "metadata": {
    "execution": {
     "iopub.execute_input": "2025-02-19T09:08:01.594217Z",
     "iopub.status.busy": "2025-02-19T09:08:01.593785Z",
     "iopub.status.idle": "2025-02-19T09:08:01.610854Z",
     "shell.execute_reply": "2025-02-19T09:08:01.609311Z"
    },
    "papermill": {
     "duration": 0.029417,
     "end_time": "2025-02-19T09:08:01.613655",
     "exception": false,
     "start_time": "2025-02-19T09:08:01.584238",
     "status": "completed"
    },
    "tags": []
   },
   "outputs": [
    {
     "data": {
      "text/html": [
       "<div>\n",
       "<style scoped>\n",
       "    .dataframe tbody tr th:only-of-type {\n",
       "        vertical-align: middle;\n",
       "    }\n",
       "\n",
       "    .dataframe tbody tr th {\n",
       "        vertical-align: top;\n",
       "    }\n",
       "\n",
       "    .dataframe thead th {\n",
       "        text-align: right;\n",
       "    }\n",
       "</style>\n",
       "<table border=\"1\" class=\"dataframe\">\n",
       "  <thead>\n",
       "    <tr style=\"text-align: right;\">\n",
       "      <th></th>\n",
       "      <th>id</th>\n",
       "      <th>Brand</th>\n",
       "      <th>Material</th>\n",
       "      <th>Size</th>\n",
       "      <th>Compartments</th>\n",
       "      <th>Laptop Compartment</th>\n",
       "      <th>Waterproof</th>\n",
       "      <th>Style</th>\n",
       "      <th>Color</th>\n",
       "      <th>Weight Capacity (kg)</th>\n",
       "    </tr>\n",
       "  </thead>\n",
       "  <tbody>\n",
       "    <tr>\n",
       "      <th>300000</th>\n",
       "      <td>300000</td>\n",
       "      <td>3</td>\n",
       "      <td>1</td>\n",
       "      <td>2</td>\n",
       "      <td>2.0</td>\n",
       "      <td>0</td>\n",
       "      <td>0</td>\n",
       "      <td>2</td>\n",
       "      <td>3</td>\n",
       "      <td>20.671147</td>\n",
       "    </tr>\n",
       "    <tr>\n",
       "      <th>300001</th>\n",
       "      <td>300001</td>\n",
       "      <td>2</td>\n",
       "      <td>0</td>\n",
       "      <td>1</td>\n",
       "      <td>7.0</td>\n",
       "      <td>0</td>\n",
       "      <td>1</td>\n",
       "      <td>0</td>\n",
       "      <td>3</td>\n",
       "      <td>13.564105</td>\n",
       "    </tr>\n",
       "    <tr>\n",
       "      <th>300002</th>\n",
       "      <td>300002</td>\n",
       "      <td>0</td>\n",
       "      <td>0</td>\n",
       "      <td>0</td>\n",
       "      <td>9.0</td>\n",
       "      <td>0</td>\n",
       "      <td>1</td>\n",
       "      <td>1</td>\n",
       "      <td>1</td>\n",
       "      <td>11.809799</td>\n",
       "    </tr>\n",
       "    <tr>\n",
       "      <th>300003</th>\n",
       "      <td>300003</td>\n",
       "      <td>0</td>\n",
       "      <td>2</td>\n",
       "      <td>0</td>\n",
       "      <td>1.0</td>\n",
       "      <td>1</td>\n",
       "      <td>0</td>\n",
       "      <td>1</td>\n",
       "      <td>3</td>\n",
       "      <td>18.477036</td>\n",
       "    </tr>\n",
       "    <tr>\n",
       "      <th>300004</th>\n",
       "      <td>300004</td>\n",
       "      <td>0</td>\n",
       "      <td>2</td>\n",
       "      <td>0</td>\n",
       "      <td>2.0</td>\n",
       "      <td>1</td>\n",
       "      <td>1</td>\n",
       "      <td>2</td>\n",
       "      <td>0</td>\n",
       "      <td>9.907953</td>\n",
       "    </tr>\n",
       "  </tbody>\n",
       "</table>\n",
       "</div>"
      ],
      "text/plain": [
       "            id  Brand  Material  Size  Compartments  Laptop Compartment  \\\n",
       "300000  300000      3         1     2           2.0                   0   \n",
       "300001  300001      2         0     1           7.0                   0   \n",
       "300002  300002      0         0     0           9.0                   0   \n",
       "300003  300003      0         2     0           1.0                   1   \n",
       "300004  300004      0         2     0           2.0                   1   \n",
       "\n",
       "        Waterproof  Style  Color  Weight Capacity (kg)  \n",
       "300000           0      2      3             20.671147  \n",
       "300001           1      0      3             13.564105  \n",
       "300002           1      1      1             11.809799  \n",
       "300003           0      1      3             18.477036  \n",
       "300004           1      2      0              9.907953  "
      ]
     },
     "execution_count": 17,
     "metadata": {},
     "output_type": "execute_result"
    }
   ],
   "source": [
    "test_data.head()"
   ]
  },
  {
   "cell_type": "code",
   "execution_count": 18,
   "id": "01196c9a",
   "metadata": {
    "execution": {
     "iopub.execute_input": "2025-02-19T09:08:01.632274Z",
     "iopub.status.busy": "2025-02-19T09:08:01.631919Z",
     "iopub.status.idle": "2025-02-19T09:08:01.648205Z",
     "shell.execute_reply": "2025-02-19T09:08:01.647114Z"
    },
    "papermill": {
     "duration": 0.028835,
     "end_time": "2025-02-19T09:08:01.650380",
     "exception": false,
     "start_time": "2025-02-19T09:08:01.621545",
     "status": "completed"
    },
    "tags": []
   },
   "outputs": [],
   "source": [
    "# Prepare the feature set (X) and target variable (y) for training\n",
    "X = train_data.drop(columns=['Price'])\n",
    "y = train_data['Price']"
   ]
  },
  {
   "cell_type": "code",
   "execution_count": 19,
   "id": "00aa77a7",
   "metadata": {
    "execution": {
     "iopub.execute_input": "2025-02-19T09:08:01.666043Z",
     "iopub.status.busy": "2025-02-19T09:08:01.665596Z",
     "iopub.status.idle": "2025-02-19T09:08:01.748707Z",
     "shell.execute_reply": "2025-02-19T09:08:01.747440Z"
    },
    "papermill": {
     "duration": 0.092908,
     "end_time": "2025-02-19T09:08:01.750635",
     "exception": false,
     "start_time": "2025-02-19T09:08:01.657727",
     "status": "completed"
    },
    "tags": []
   },
   "outputs": [],
   "source": [
    "# Train-test split for the model (this step can be skipped since we already split earlier)\n",
    "X_train, X_val, y_train, y_val = train_test_split(X, y, test_size=0.2, random_state=42)"
   ]
  },
  {
   "cell_type": "code",
   "execution_count": 20,
   "id": "5d427299",
   "metadata": {
    "execution": {
     "iopub.execute_input": "2025-02-19T09:08:01.767193Z",
     "iopub.status.busy": "2025-02-19T09:08:01.766575Z",
     "iopub.status.idle": "2025-02-19T09:08:01.835894Z",
     "shell.execute_reply": "2025-02-19T09:08:01.835018Z"
    },
    "papermill": {
     "duration": 0.079786,
     "end_time": "2025-02-19T09:08:01.838005",
     "exception": false,
     "start_time": "2025-02-19T09:08:01.758219",
     "status": "completed"
    },
    "tags": []
   },
   "outputs": [],
   "source": [
    "# Standardize numerical features\n",
    "scaler = StandardScaler()\n",
    "X_train[numeric_cols] = scaler.fit_transform(X_train[numeric_cols])\n",
    "X_val[numeric_cols] = scaler.transform(X_val[numeric_cols])\n",
    "test_data[numeric_cols] = scaler.transform(test_data[numeric_cols])"
   ]
  },
  {
   "cell_type": "code",
   "execution_count": 21,
   "id": "dbc87abd",
   "metadata": {
    "execution": {
     "iopub.execute_input": "2025-02-19T09:08:01.853612Z",
     "iopub.status.busy": "2025-02-19T09:08:01.853197Z",
     "iopub.status.idle": "2025-02-19T09:08:01.858074Z",
     "shell.execute_reply": "2025-02-19T09:08:01.856860Z"
    },
    "papermill": {
     "duration": 0.014808,
     "end_time": "2025-02-19T09:08:01.860022",
     "exception": false,
     "start_time": "2025-02-19T09:08:01.845214",
     "status": "completed"
    },
    "tags": []
   },
   "outputs": [],
   "source": [
    "# Initialize XGBoost Model with optimized parameters\n",
    "xgb_model = XGBRegressor(\n",
    "    n_estimators=500,\n",
    "    learning_rate=0.05,\n",
    "    max_depth=6,\n",
    "    subsample=0.8,\n",
    "    colsample_bytree=0.8,\n",
    "    objective=\"reg:squarederror\",\n",
    "    random_state=42\n",
    ")"
   ]
  },
  {
   "cell_type": "code",
   "execution_count": 22,
   "id": "d8548aea",
   "metadata": {
    "execution": {
     "iopub.execute_input": "2025-02-19T09:08:01.875703Z",
     "iopub.status.busy": "2025-02-19T09:08:01.875269Z",
     "iopub.status.idle": "2025-02-19T09:08:06.298596Z",
     "shell.execute_reply": "2025-02-19T09:08:06.297255Z"
    },
    "papermill": {
     "duration": 4.43354,
     "end_time": "2025-02-19T09:08:06.300903",
     "exception": false,
     "start_time": "2025-02-19T09:08:01.867363",
     "status": "completed"
    },
    "tags": []
   },
   "outputs": [
    {
     "data": {
      "text/html": [
       "<style>#sk-container-id-1 {color: black;background-color: white;}#sk-container-id-1 pre{padding: 0;}#sk-container-id-1 div.sk-toggleable {background-color: white;}#sk-container-id-1 label.sk-toggleable__label {cursor: pointer;display: block;width: 100%;margin-bottom: 0;padding: 0.3em;box-sizing: border-box;text-align: center;}#sk-container-id-1 label.sk-toggleable__label-arrow:before {content: \"▸\";float: left;margin-right: 0.25em;color: #696969;}#sk-container-id-1 label.sk-toggleable__label-arrow:hover:before {color: black;}#sk-container-id-1 div.sk-estimator:hover label.sk-toggleable__label-arrow:before {color: black;}#sk-container-id-1 div.sk-toggleable__content {max-height: 0;max-width: 0;overflow: hidden;text-align: left;background-color: #f0f8ff;}#sk-container-id-1 div.sk-toggleable__content pre {margin: 0.2em;color: black;border-radius: 0.25em;background-color: #f0f8ff;}#sk-container-id-1 input.sk-toggleable__control:checked~div.sk-toggleable__content {max-height: 200px;max-width: 100%;overflow: auto;}#sk-container-id-1 input.sk-toggleable__control:checked~label.sk-toggleable__label-arrow:before {content: \"▾\";}#sk-container-id-1 div.sk-estimator input.sk-toggleable__control:checked~label.sk-toggleable__label {background-color: #d4ebff;}#sk-container-id-1 div.sk-label input.sk-toggleable__control:checked~label.sk-toggleable__label {background-color: #d4ebff;}#sk-container-id-1 input.sk-hidden--visually {border: 0;clip: rect(1px 1px 1px 1px);clip: rect(1px, 1px, 1px, 1px);height: 1px;margin: -1px;overflow: hidden;padding: 0;position: absolute;width: 1px;}#sk-container-id-1 div.sk-estimator {font-family: monospace;background-color: #f0f8ff;border: 1px dotted black;border-radius: 0.25em;box-sizing: border-box;margin-bottom: 0.5em;}#sk-container-id-1 div.sk-estimator:hover {background-color: #d4ebff;}#sk-container-id-1 div.sk-parallel-item::after {content: \"\";width: 100%;border-bottom: 1px solid gray;flex-grow: 1;}#sk-container-id-1 div.sk-label:hover label.sk-toggleable__label {background-color: #d4ebff;}#sk-container-id-1 div.sk-serial::before {content: \"\";position: absolute;border-left: 1px solid gray;box-sizing: border-box;top: 0;bottom: 0;left: 50%;z-index: 0;}#sk-container-id-1 div.sk-serial {display: flex;flex-direction: column;align-items: center;background-color: white;padding-right: 0.2em;padding-left: 0.2em;position: relative;}#sk-container-id-1 div.sk-item {position: relative;z-index: 1;}#sk-container-id-1 div.sk-parallel {display: flex;align-items: stretch;justify-content: center;background-color: white;position: relative;}#sk-container-id-1 div.sk-item::before, #sk-container-id-1 div.sk-parallel-item::before {content: \"\";position: absolute;border-left: 1px solid gray;box-sizing: border-box;top: 0;bottom: 0;left: 50%;z-index: -1;}#sk-container-id-1 div.sk-parallel-item {display: flex;flex-direction: column;z-index: 1;position: relative;background-color: white;}#sk-container-id-1 div.sk-parallel-item:first-child::after {align-self: flex-end;width: 50%;}#sk-container-id-1 div.sk-parallel-item:last-child::after {align-self: flex-start;width: 50%;}#sk-container-id-1 div.sk-parallel-item:only-child::after {width: 0;}#sk-container-id-1 div.sk-dashed-wrapped {border: 1px dashed gray;margin: 0 0.4em 0.5em 0.4em;box-sizing: border-box;padding-bottom: 0.4em;background-color: white;}#sk-container-id-1 div.sk-label label {font-family: monospace;font-weight: bold;display: inline-block;line-height: 1.2em;}#sk-container-id-1 div.sk-label-container {text-align: center;}#sk-container-id-1 div.sk-container {/* jupyter's `normalize.less` sets `[hidden] { display: none; }` but bootstrap.min.css set `[hidden] { display: none !important; }` so we also need the `!important` here to be able to override the default hidden behavior on the sphinx rendered scikit-learn.org. See: https://github.com/scikit-learn/scikit-learn/issues/21755 */display: inline-block !important;position: relative;}#sk-container-id-1 div.sk-text-repr-fallback {display: none;}</style><div id=\"sk-container-id-1\" class=\"sk-top-container\"><div class=\"sk-text-repr-fallback\"><pre>XGBRegressor(base_score=None, booster=None, callbacks=None,\n",
       "             colsample_bylevel=None, colsample_bynode=None,\n",
       "             colsample_bytree=0.8, device=None, early_stopping_rounds=None,\n",
       "             enable_categorical=False, eval_metric=None, feature_types=None,\n",
       "             gamma=None, grow_policy=None, importance_type=None,\n",
       "             interaction_constraints=None, learning_rate=0.05, max_bin=None,\n",
       "             max_cat_threshold=None, max_cat_to_onehot=None,\n",
       "             max_delta_step=None, max_depth=6, max_leaves=None,\n",
       "             min_child_weight=None, missing=nan, monotone_constraints=None,\n",
       "             multi_strategy=None, n_estimators=500, n_jobs=None,\n",
       "             num_parallel_tree=None, random_state=42, ...)</pre><b>In a Jupyter environment, please rerun this cell to show the HTML representation or trust the notebook. <br />On GitHub, the HTML representation is unable to render, please try loading this page with nbviewer.org.</b></div><div class=\"sk-container\" hidden><div class=\"sk-item\"><div class=\"sk-estimator sk-toggleable\"><input class=\"sk-toggleable__control sk-hidden--visually\" id=\"sk-estimator-id-1\" type=\"checkbox\" checked><label for=\"sk-estimator-id-1\" class=\"sk-toggleable__label sk-toggleable__label-arrow\">XGBRegressor</label><div class=\"sk-toggleable__content\"><pre>XGBRegressor(base_score=None, booster=None, callbacks=None,\n",
       "             colsample_bylevel=None, colsample_bynode=None,\n",
       "             colsample_bytree=0.8, device=None, early_stopping_rounds=None,\n",
       "             enable_categorical=False, eval_metric=None, feature_types=None,\n",
       "             gamma=None, grow_policy=None, importance_type=None,\n",
       "             interaction_constraints=None, learning_rate=0.05, max_bin=None,\n",
       "             max_cat_threshold=None, max_cat_to_onehot=None,\n",
       "             max_delta_step=None, max_depth=6, max_leaves=None,\n",
       "             min_child_weight=None, missing=nan, monotone_constraints=None,\n",
       "             multi_strategy=None, n_estimators=500, n_jobs=None,\n",
       "             num_parallel_tree=None, random_state=42, ...)</pre></div></div></div></div></div>"
      ],
      "text/plain": [
       "XGBRegressor(base_score=None, booster=None, callbacks=None,\n",
       "             colsample_bylevel=None, colsample_bynode=None,\n",
       "             colsample_bytree=0.8, device=None, early_stopping_rounds=None,\n",
       "             enable_categorical=False, eval_metric=None, feature_types=None,\n",
       "             gamma=None, grow_policy=None, importance_type=None,\n",
       "             interaction_constraints=None, learning_rate=0.05, max_bin=None,\n",
       "             max_cat_threshold=None, max_cat_to_onehot=None,\n",
       "             max_delta_step=None, max_depth=6, max_leaves=None,\n",
       "             min_child_weight=None, missing=nan, monotone_constraints=None,\n",
       "             multi_strategy=None, n_estimators=500, n_jobs=None,\n",
       "             num_parallel_tree=None, random_state=42, ...)"
      ]
     },
     "execution_count": 22,
     "metadata": {},
     "output_type": "execute_result"
    }
   ],
   "source": [
    "# Train model\n",
    "xgb_model.fit(X_train, y_train)"
   ]
  },
  {
   "cell_type": "code",
   "execution_count": 23,
   "id": "b97950cb",
   "metadata": {
    "execution": {
     "iopub.execute_input": "2025-02-19T09:08:06.318168Z",
     "iopub.status.busy": "2025-02-19T09:08:06.317807Z",
     "iopub.status.idle": "2025-02-19T09:08:06.610486Z",
     "shell.execute_reply": "2025-02-19T09:08:06.609648Z"
    },
    "papermill": {
     "duration": 0.303373,
     "end_time": "2025-02-19T09:08:06.612601",
     "exception": false,
     "start_time": "2025-02-19T09:08:06.309228",
     "status": "completed"
    },
    "tags": []
   },
   "outputs": [],
   "source": [
    "y_pred = xgb_model.predict(X_val)"
   ]
  },
  {
   "cell_type": "code",
   "execution_count": 24,
   "id": "70e15a23",
   "metadata": {
    "execution": {
     "iopub.execute_input": "2025-02-19T09:08:06.628514Z",
     "iopub.status.busy": "2025-02-19T09:08:06.628151Z",
     "iopub.status.idle": "2025-02-19T09:08:06.637084Z",
     "shell.execute_reply": "2025-02-19T09:08:06.635868Z"
    },
    "papermill": {
     "duration": 0.018714,
     "end_time": "2025-02-19T09:08:06.638826",
     "exception": false,
     "start_time": "2025-02-19T09:08:06.620112",
     "status": "completed"
    },
    "tags": []
   },
   "outputs": [
    {
     "name": "stdout",
     "output_type": "stream",
     "text": [
      "XGBoost RMSE: 38.9898\n"
     ]
    }
   ],
   "source": [
    "rmse = np.sqrt(mean_squared_error(y_val, y_pred))\n",
    "print(f\"XGBoost RMSE: {rmse:.4f}\")"
   ]
  },
  {
   "cell_type": "code",
   "execution_count": 25,
   "id": "e53d061c",
   "metadata": {
    "execution": {
     "iopub.execute_input": "2025-02-19T09:08:06.654890Z",
     "iopub.status.busy": "2025-02-19T09:08:06.654457Z",
     "iopub.status.idle": "2025-02-19T09:08:07.607637Z",
     "shell.execute_reply": "2025-02-19T09:08:07.606716Z"
    },
    "papermill": {
     "duration": 0.963705,
     "end_time": "2025-02-19T09:08:07.610039",
     "exception": false,
     "start_time": "2025-02-19T09:08:06.646334",
     "status": "completed"
    },
    "tags": []
   },
   "outputs": [],
   "source": [
    "test_predictions = xgb_model.predict(test_data)"
   ]
  },
  {
   "cell_type": "code",
   "execution_count": 26,
   "id": "caf207da",
   "metadata": {
    "execution": {
     "iopub.execute_input": "2025-02-19T09:08:07.626482Z",
     "iopub.status.busy": "2025-02-19T09:08:07.626095Z",
     "iopub.status.idle": "2025-02-19T09:08:07.925091Z",
     "shell.execute_reply": "2025-02-19T09:08:07.923848Z"
    },
    "papermill": {
     "duration": 0.309097,
     "end_time": "2025-02-19T09:08:07.926933",
     "exception": false,
     "start_time": "2025-02-19T09:08:07.617836",
     "status": "completed"
    },
    "tags": []
   },
   "outputs": [
    {
     "name": "stdout",
     "output_type": "stream",
     "text": [
      "Submitted\n"
     ]
    }
   ],
   "source": [
    "# Save the submission to a CSV file\n",
    "submission = pd.DataFrame({\"id\": test_data.index, \"Price\": test_predictions})\n",
    "submission.to_csv(\"submission.csv\", index=False)\n",
    "print(\"Submitted\")"
   ]
  }
 ],
 "metadata": {
  "kaggle": {
   "accelerator": "none",
   "dataSources": [
    {
     "databundleVersionId": 10995111,
     "sourceId": 90274,
     "sourceType": "competition"
    }
   ],
   "dockerImageVersionId": 30886,
   "isGpuEnabled": false,
   "isInternetEnabled": true,
   "language": "python",
   "sourceType": "notebook"
  },
  "kernelspec": {
   "display_name": "Python 3",
   "language": "python",
   "name": "python3"
  },
  "language_info": {
   "codemirror_mode": {
    "name": "ipython",
    "version": 3
   },
   "file_extension": ".py",
   "mimetype": "text/x-python",
   "name": "python",
   "nbconvert_exporter": "python",
   "pygments_lexer": "ipython3",
   "version": "3.10.12"
  },
  "papermill": {
   "default_parameters": {},
   "duration": 15.878561,
   "end_time": "2025-02-19T09:08:08.655758",
   "environment_variables": {},
   "exception": null,
   "input_path": "__notebook__.ipynb",
   "output_path": "__notebook__.ipynb",
   "parameters": {},
   "start_time": "2025-02-19T09:07:52.777197",
   "version": "2.6.0"
  }
 },
 "nbformat": 4,
 "nbformat_minor": 5
}
